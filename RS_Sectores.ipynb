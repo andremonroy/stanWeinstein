{
  "nbformat": 4,
  "nbformat_minor": 0,
  "metadata": {
    "colab": {
      "provenance": [],
      "authorship_tag": "ABX9TyPbWer7/GcOHTMyKLI3tDAX",
      "include_colab_link": true
    },
    "kernelspec": {
      "name": "python3",
      "display_name": "Python 3"
    },
    "language_info": {
      "name": "python"
    }
  },
  "cells": [
    {
      "cell_type": "markdown",
      "metadata": {
        "id": "view-in-github",
        "colab_type": "text"
      },
      "source": [
        "<a href=\"https://colab.research.google.com/github/andremonroy/stanWeinstein/blob/main/RS_Sectores.ipynb\" target=\"_parent\"><img src=\"https://colab.research.google.com/assets/colab-badge.svg\" alt=\"Open In Colab\"/></a>"
      ]
    },
    {
      "cell_type": "markdown",
      "source": [
        "# Primero calculamos el RS rating por sector y lo exporto a Google Sheets \"RS dashboard\""
      ],
      "metadata": {
        "id": "12p1JclxKmWL"
      }
    },
    {
      "cell_type": "code",
      "execution_count": null,
      "metadata": {
        "id": "vAHl1ub045Kz"
      },
      "outputs": [],
      "source": [
        "# CELDA 1 – Instalación\n",
        "!pip install --quiet yfinance gspread oauth2client"
      ]
    },
    {
      "cell_type": "code",
      "source": [
        "# CELDA 2 – Configuración Google Sheets\n",
        "import pandas as pd, numpy as np, yfinance as yf, datetime, gspread\n",
        "# from oauth2client.service_account import ServiceAccountCredentials\n",
        "from google.colab import auth\n",
        "\n",
        "# -> Coloca tu ID\n",
        "spreadsheet_id = \"19WW_XIkvM0VU1W_NYDBEZwU6NxYvkTAb2Qn_E7ONAyw\"\n",
        "sheet_name     = \"RS sectores\"\n",
        "\n",
        "# Authenticate using google.colab.auth\n",
        "auth.authenticate_user()\n",
        "\n",
        "# Use the authenticated user's credentials\n",
        "import google.auth\n",
        "import google.auth.transport.requests\n",
        "creds, project = google.auth.default()\n",
        "\n",
        "# Authorize gspread with the obtained credentials\n",
        "client = gspread.authorize(creds)\n",
        "\n",
        "sheet  = client.open_by_key(spreadsheet_id).worksheet(sheet_name)"
      ],
      "metadata": {
        "id": "NwhlDrWA4-AF"
      },
      "execution_count": null,
      "outputs": []
    },
    {
      "cell_type": "code",
      "source": [
        "# CELDA 3 – Parámetros y descarga de precios semanales\n",
        "\n",
        "# ETFs sectoriales megatendencia y  S&P 500\n",
        "sector_etfs = [\n",
        "    'XLK','XLV','XLF','XLY','XLP','XLI','XLB','XLE','XLU','XLRE','XLC'\n",
        "]\n",
        "\n",
        "# ETFs megatendencias\n",
        "megatrend_etfs = [\n",
        "    # 1. AI & Big Data\n",
        "    'AIQ','BOTZ','ROBO','IRBO','ARKQ',\n",
        "    # 2. Ciberseguridad y Defensa Digital\n",
        "    'BUG','IHAK','CIBR',\n",
        "    # 3. Infraestructura Digital y Data Centers\n",
        "    'DTCR','PAVE',\n",
        "    # 4. Energías limpias y Transición Energética\n",
        "    'RAYS','WNDY','CTEC','RNRG','AQWA','HYDR',\n",
        "    # 5. Genómica, Salud Digital y Biotecnología\n",
        "    'GNOM','HEAL','XBI',\n",
        "    # 6. Demografía y Hábitos de Consumo\n",
        "    'MILN','AGNG',\n",
        "    # 7. Reshoring Industrial y Geopolítica\n",
        "    'AMER','PAVE',  # PAVE ya está en Infraestructura, pero se repite en temática\n",
        "    # 8. Blockchain, Cripto, FinTech\n",
        "    'BLOK','FINX','BWEB',\n",
        "    # 9. Smart Cities, IoT y Real Estate Tech\n",
        "    'SNSR','PTEC',\n",
        "    # 10. Espacio, Tecnología Aeroespacial\n",
        "    'ARKX','ITA',\n",
        "    # 11. E-sports y Entretenimiento Digital\n",
        "    'HERO','SOCL'\n",
        "]\n",
        "\n",
        "# Unimos ambas listas (eliminando duplicados)\n",
        "etfs = list(dict.fromkeys(sector_etfs + megatrend_etfs))\n",
        "\n",
        "benchmark = 'SPY'\n",
        "today     = datetime.date.today()\n",
        "start     = today - datetime.timedelta(weeks=60)\n",
        "\n",
        "data = yf.download(etfs + [benchmark], start=start, end=today, interval='1wk')\n",
        "data = data.dropna(how='all')  # quita filas vacías\n",
        "\n",
        "# Eliminar ETFs que no tengan datos de precio (todas NaN) para evitar columnas totalmente vacías\n",
        "available_etfs = [t for t in etfs if t in data['Close'].columns and data['Close'][t].notna().any()]\n",
        "\n",
        "missing = sorted(list(set(etfs) - set(available_etfs)))\n",
        "if missing:\n",
        "    print(\"Se eliminaron (sin datos):\", missing)\n",
        "\n",
        "# Reemplazamos la lista 'etfs' por las que sí tienen datos\n",
        "etfs = available_etfs\n",
        "# --------------------------------\n",
        "\n"
      ],
      "metadata": {
        "colab": {
          "base_uri": "https://localhost:8080/"
        },
        "id": "G1IE8yw1xEA2",
        "outputId": "04351ce5-da12-443f-f247-48404e2d879d"
      },
      "execution_count": null,
      "outputs": [
        {
          "output_type": "stream",
          "name": "stderr",
          "text": [
            "/tmp/ipython-input-4003868101.py:41: FutureWarning: YF.download() has changed argument auto_adjust default to True\n",
            "  data = yf.download(etfs + [benchmark], start=start, end=today, interval='1wk')\n",
            "[*********************100%***********************]  43 of 43 completed\n",
            "ERROR:yfinance:\n",
            "1 Failed download:\n",
            "ERROR:yfinance:['AMER']: YFPricesMissingError('possibly delisted; no price data found  (1wk 2024-06-18 -> 2025-08-12)')\n"
          ]
        },
        {
          "output_type": "stream",
          "name": "stdout",
          "text": [
            "Se eliminaron (sin datos): ['AMER']\n"
          ]
        }
      ]
    },
    {
      "cell_type": "code",
      "source": [
        "# ----- CELDA 4 – Cálculo de retornos relativos y RS escalado 0-100 (por grupo) -----\n",
        "\n",
        "# Ventanas y pesos\n",
        "windows  = {'3m': 13, '6m': 26, '9m': 39, '12m': 52}\n",
        "weights  = {'3m': 0.40, '6m': 0.30, '9m': 0.20, '12m': 0.10}\n",
        "\n",
        "# Filtrar solo ETFs que realmente tienen datos\n",
        "sector_available = [t for t in sector_etfs if t in etfs]\n",
        "mega_available   = [t for t in megatrend_etfs if t in etfs]\n",
        "\n",
        "def compute_scores(etf_list):\n",
        "    \"\"\"Calcula el score ponderado (sin escalar) para la lista etf_list.\"\"\"\n",
        "    if not etf_list:\n",
        "        return pd.Series(dtype=float)\n",
        "    scores = pd.Series(0.0, index=etf_list)\n",
        "    for lbl, wks in windows.items():\n",
        "        rel = data['Close'].pct_change(wks)\n",
        "        # ETF / benchmark\n",
        "        rel_rs = rel[etf_list].div(rel[benchmark], axis=0)\n",
        "        latest = rel_rs.iloc[-1]\n",
        "        scores += latest * weights[lbl]\n",
        "    return scores\n",
        "\n",
        "def scale_scores(scores):\n",
        "    \"\"\"Escalado 0-100 seguro (si todos iguales devuelve 50 neutral).\"\"\"\n",
        "    if scores.empty:\n",
        "        return pd.Series(dtype=float)\n",
        "    mn, mx = scores.min(), scores.max()\n",
        "    if mx - mn == 0:\n",
        "        return pd.Series(50.0, index=scores.index)\n",
        "    return (100 * (scores - mn) / (mx - mn)).round(1)\n",
        "\n",
        "# Función de ajuste lineal para igualar referencia externa\n",
        "def ajustar_rs(rs_manual):\n",
        "    return (0.85 * rs_manual + 6.1).round(1)\n",
        "\n",
        "# -------------------\n",
        "# Cálculo para Core\n",
        "# -------------------\n",
        "scores_core      = compute_scores(sector_available)\n",
        "rs_scaled_core   = scale_scores(scores_core)\n",
        "rs_ajustado_core = ajustar_rs(rs_scaled_core)\n",
        "\n",
        "# Alinear índices Core\n",
        "rs_scaled_core, rs_ajustado_core = rs_scaled_core.align(rs_ajustado_core, join='inner')\n",
        "\n",
        "# -------------------\n",
        "# Cálculo para Megatendencias\n",
        "# -------------------\n",
        "scores_mega      = compute_scores(mega_available)\n",
        "rs_scaled_mega   = scale_scores(scores_mega)\n",
        "rs_ajustado_mega = ajustar_rs(rs_scaled_mega)\n",
        "\n",
        "# Alinear índices Mega\n",
        "rs_scaled_mega, rs_ajustado_mega = rs_scaled_mega.align(rs_ajustado_mega, join='inner')\n",
        "\n",
        "# Diagnóstico rápido\n",
        "print(\"ETFs Core procesados:\", rs_scaled_core.index.tolist())\n",
        "print(\"ETFs Megatendencias procesados:\", rs_scaled_mega.index.tolist())\n"
      ],
      "metadata": {
        "colab": {
          "base_uri": "https://localhost:8080/"
        },
        "id": "1r_b7aDyG2Lt",
        "outputId": "a449e462-1932-42fd-84a0-86eb97316f35"
      },
      "execution_count": null,
      "outputs": [
        {
          "output_type": "stream",
          "name": "stdout",
          "text": [
            "ETFs Core procesados: ['XLK', 'XLV', 'XLF', 'XLY', 'XLP', 'XLI', 'XLB', 'XLE', 'XLU', 'XLRE', 'XLC']\n",
            "ETFs Megatendencias procesados: ['AIQ', 'BOTZ', 'ROBO', 'IRBO', 'ARKQ', 'BUG', 'IHAK', 'CIBR', 'DTCR', 'PAVE', 'RAYS', 'WNDY', 'CTEC', 'RNRG', 'AQWA', 'HYDR', 'GNOM', 'HEAL', 'XBI', 'MILN', 'AGNG', 'PAVE', 'BLOK', 'FINX', 'BWEB', 'SNSR', 'PTEC', 'ARKX', 'ITA', 'HERO', 'SOCL']\n"
          ]
        },
        {
          "output_type": "stream",
          "name": "stderr",
          "text": [
            "/tmp/ipython-input-741833016.py:17: FutureWarning: The default fill_method='pad' in DataFrame.pct_change is deprecated and will be removed in a future version. Either fill in any non-leading NA values prior to calling pct_change or specify 'fill_method=None' to not fill NA values.\n",
            "  rel = data['Close'].pct_change(wks)\n",
            "/tmp/ipython-input-741833016.py:17: FutureWarning: The default fill_method='pad' in DataFrame.pct_change is deprecated and will be removed in a future version. Either fill in any non-leading NA values prior to calling pct_change or specify 'fill_method=None' to not fill NA values.\n",
            "  rel = data['Close'].pct_change(wks)\n",
            "/tmp/ipython-input-741833016.py:17: FutureWarning: The default fill_method='pad' in DataFrame.pct_change is deprecated and will be removed in a future version. Either fill in any non-leading NA values prior to calling pct_change or specify 'fill_method=None' to not fill NA values.\n",
            "  rel = data['Close'].pct_change(wks)\n",
            "/tmp/ipython-input-741833016.py:17: FutureWarning: The default fill_method='pad' in DataFrame.pct_change is deprecated and will be removed in a future version. Either fill in any non-leading NA values prior to calling pct_change or specify 'fill_method=None' to not fill NA values.\n",
            "  rel = data['Close'].pct_change(wks)\n",
            "/tmp/ipython-input-741833016.py:17: FutureWarning: The default fill_method='pad' in DataFrame.pct_change is deprecated and will be removed in a future version. Either fill in any non-leading NA values prior to calling pct_change or specify 'fill_method=None' to not fill NA values.\n",
            "  rel = data['Close'].pct_change(wks)\n",
            "/tmp/ipython-input-741833016.py:17: FutureWarning: The default fill_method='pad' in DataFrame.pct_change is deprecated and will be removed in a future version. Either fill in any non-leading NA values prior to calling pct_change or specify 'fill_method=None' to not fill NA values.\n",
            "  rel = data['Close'].pct_change(wks)\n",
            "/tmp/ipython-input-741833016.py:17: FutureWarning: The default fill_method='pad' in DataFrame.pct_change is deprecated and will be removed in a future version. Either fill in any non-leading NA values prior to calling pct_change or specify 'fill_method=None' to not fill NA values.\n",
            "  rel = data['Close'].pct_change(wks)\n",
            "/tmp/ipython-input-741833016.py:17: FutureWarning: The default fill_method='pad' in DataFrame.pct_change is deprecated and will be removed in a future version. Either fill in any non-leading NA values prior to calling pct_change or specify 'fill_method=None' to not fill NA values.\n",
            "  rel = data['Close'].pct_change(wks)\n"
          ]
        }
      ]
    },
    {
      "cell_type": "code",
      "source": [
        "# ----- CELDA 5 – Semáforo y subida a Google Sheets (Core + Megatendencias por separado) -----\n",
        "\n",
        "def light(v):\n",
        "    try:\n",
        "        if v is None or (isinstance(v, float) and np.isnan(v)):\n",
        "            return 'blanco'\n",
        "        v = float(v)\n",
        "    except:\n",
        "        return 'blanco'\n",
        "    if v >= 80:\n",
        "        return 'verde fuerte'\n",
        "    elif v >= 70:\n",
        "        return 'verde claro'\n",
        "    elif v >= 40:\n",
        "        return 'amarillo'\n",
        "    else:\n",
        "        return 'rojo'\n",
        "\n",
        "# Diccionario de nombres (Core + Megatendencias)\n",
        "etf_nombres = {\n",
        "    'XLF': 'Financials','XLK': 'Technology','XLY': 'Consumer Discretionary','XLP': 'Consumer Staples',\n",
        "    'XLV': 'Health Care','XLI': 'Industrials','XLE': 'Energy','XLU': 'Utilities',\n",
        "    'XLB': 'Materials','XLRE': 'Real Estate','XLC': 'Communication Services',\n",
        "    'AIQ':'AI & Big Data','BOTZ':'Robótica e IA','ROBO':'Robótica Global','IRBO':'IA Multisector',\n",
        "    'ARKQ':'Tecnología Autónoma y Robótica','BUG':'Ciberseguridad','IHAK':'Ciberseguridad ESG',\n",
        "    'CIBR':'Defensa Tecnológica','DTCR':'Infraestructura Digital','PAVE':'Infraestructura y Energía',\n",
        "    'RAYS':'Energía Solar','WNDY':'Energía Eólica','CTEC':'Tecnología Limpia',\n",
        "    'RNRG':'Productores Energía Renovable','AQWA':'Agua Limpia','HYDR':'Hidrógeno',\n",
        "    'GNOM':'Genómica & Biotech','HEAL':'Salud e Innovación','XBI':'Biotecnología General',\n",
        "    'MILN':'Consumo Millennial','AGNG':'Envejecimiento Población','AMER':'Manufacturing USA',\n",
        "    'BLOK':'Blockchain','FINX':'FinTech General','BWEB':'Web3 y Descentralización',\n",
        "    'SNSR':'Internet of Things','PTEC':'PropTech / Real Estate Digital',\n",
        "    'ARKX':'Espacio y Defensa','ITA':'Aeroespacial','HERO':'Videojuegos y E-sports',\n",
        "    'SOCL':'Media y Entretenimiento Digital'\n",
        "}\n",
        "\n",
        "# Construir DataFrame desde las Series escaladas de cada grupo\n",
        "def build_df_from_series(rs_scaled_series, rs_ajustado_series):\n",
        "    if rs_scaled_series.empty:\n",
        "        return pd.DataFrame(columns=['ETF','Sector','RS','RS Ajustado','Semáforo'])\n",
        "    available = list(rs_scaled_series.index)\n",
        "    df = pd.DataFrame({\n",
        "        'ETF': available,\n",
        "        'Sector': [etf_nombres.get(t, t) for t in available],\n",
        "        'RS': rs_scaled_series.loc[available].values,\n",
        "        'RS Ajustado': rs_ajustado_series.loc[available].values\n",
        "    })\n",
        "    df['Semáforo'] = df['RS Ajustado'].apply(light)\n",
        "    df = df[['ETF','Sector','RS','RS Ajustado','Semáforo']].sort_values('RS Ajustado', ascending=False)\n",
        "    return df\n",
        "\n",
        "df_core = build_df_from_series(rs_scaled_core, rs_ajustado_core)\n",
        "df_mega = build_df_from_series(rs_scaled_mega, rs_ajustado_mega)\n",
        "\n",
        "# Diagnóstico rápido: qué tickers originales quedaron fuera por falta de datos\n",
        "missing_core = [t for t in sector_etfs if t not in df_core['ETF'].tolist()]\n",
        "missing_mega = [t for t in megatrend_etfs if t not in df_mega['ETF'].tolist()]\n",
        "if missing_core:\n",
        "    print(\"Core (omitidos por no tener datos/calculo):\", missing_core)\n",
        "if missing_mega:\n",
        "    print(\"Megatendencias (omitidos por no tener datos/calculo):\", missing_mega)\n",
        "\n",
        "# Export CSVs (opcional)\n",
        "df_core[['Sector','RS Ajustado']].to_csv(\"sectores_rs_core.csv\", index=False)\n",
        "df_mega[['Sector','RS Ajustado']].to_csv(\"sectores_rs_mega.csv\", index=False)\n",
        "# También un CSV combinado (si lo usas en otro notebook)\n",
        "pd.concat([df_core, df_mega]).to_csv(\"sectores_rs.csv\", index=False)\n",
        "\n",
        "# Preparar filas seguras para Google Sheets (no NaN ni inf)\n",
        "def df_to_rows_safe(df):\n",
        "    df2 = df.copy()\n",
        "    df2 = df2.replace([np.inf, -np.inf], np.nan).fillna('')\n",
        "    return [list(df2.columns)] + df2.values.tolist()\n",
        "\n",
        "rows = [[\"ETFs Principales\"]] + df_to_rows_safe(df_core) \\\n",
        "     + [[\"\"]] \\\n",
        "     + [[\"ETFs Megatendencias\"]] + df_to_rows_safe(df_mega)\n",
        "\n",
        "# Subir a Google Sheets: soporte para InteractiveSheet (si lo hubieras sobrescrito)\n",
        "try:\n",
        "    if hasattr(sheet, 'clear') and hasattr(sheet, 'update'):\n",
        "        sheet.clear()\n",
        "        sheet.update(rows)\n",
        "    else:\n",
        "        ws = client.open_by_key(spreadsheet_id).worksheet(sheet_name)\n",
        "        ws.clear()\n",
        "        ws.update(rows)\n",
        "    print(\"¡Dashboard actualizado con Core y Megatendencias!\")\n",
        "except Exception as e:\n",
        "    print(\"Error subiendo a Google Sheets:\", e)\n",
        "    # fallback: imprimir preview\n",
        "    print(\"Preview de las primeras filas:\")\n",
        "    for r in rows[:10]:\n",
        "        print(r)\n",
        "\n",
        "# Mostrar en notebook para verificación rápida\n",
        "print(\"Top Core (vista rápida):\")\n",
        "display(df_core.head(12))\n",
        "print(\"Top Megatendencias (vista rápida):\")\n",
        "display(df_mega.head(12))\n"
      ],
      "metadata": {
        "colab": {
          "base_uri": "https://localhost:8080/",
          "height": 365
        },
        "id": "rWqlScjdyjml",
        "outputId": "605f9e6a-fc10-4d9c-c44c-89dbb9e7c03c"
      },
      "execution_count": null,
      "outputs": [
        {
          "output_type": "error",
          "ename": "ValueError",
          "evalue": "All arrays must be of the same length",
          "traceback": [
            "\u001b[0;31m---------------------------------------------------------------------------\u001b[0m",
            "\u001b[0;31mValueError\u001b[0m                                Traceback (most recent call last)",
            "\u001b[0;32m/tmp/ipython-input-2647083632.py\u001b[0m in \u001b[0;36m<cell line: 0>\u001b[0;34m()\u001b[0m\n\u001b[1;32m     51\u001b[0m \u001b[0;34m\u001b[0m\u001b[0m\n\u001b[1;32m     52\u001b[0m \u001b[0mdf_core\u001b[0m \u001b[0;34m=\u001b[0m \u001b[0mbuild_df_from_series\u001b[0m\u001b[0;34m(\u001b[0m\u001b[0mrs_scaled_core\u001b[0m\u001b[0;34m,\u001b[0m \u001b[0mrs_ajustado_core\u001b[0m\u001b[0;34m)\u001b[0m\u001b[0;34m\u001b[0m\u001b[0;34m\u001b[0m\u001b[0m\n\u001b[0;32m---> 53\u001b[0;31m \u001b[0mdf_mega\u001b[0m \u001b[0;34m=\u001b[0m \u001b[0mbuild_df_from_series\u001b[0m\u001b[0;34m(\u001b[0m\u001b[0mrs_scaled_mega\u001b[0m\u001b[0;34m,\u001b[0m \u001b[0mrs_ajustado_mega\u001b[0m\u001b[0;34m)\u001b[0m\u001b[0;34m\u001b[0m\u001b[0;34m\u001b[0m\u001b[0m\n\u001b[0m\u001b[1;32m     54\u001b[0m \u001b[0;34m\u001b[0m\u001b[0m\n\u001b[1;32m     55\u001b[0m \u001b[0;31m# Diagnóstico rápido: qué tickers originales quedaron fuera por falta de datos\u001b[0m\u001b[0;34m\u001b[0m\u001b[0;34m\u001b[0m\u001b[0m\n",
            "\u001b[0;32m/tmp/ipython-input-2647083632.py\u001b[0m in \u001b[0;36mbuild_df_from_series\u001b[0;34m(rs_scaled_series, rs_ajustado_series)\u001b[0m\n\u001b[1;32m     40\u001b[0m         \u001b[0;32mreturn\u001b[0m \u001b[0mpd\u001b[0m\u001b[0;34m.\u001b[0m\u001b[0mDataFrame\u001b[0m\u001b[0;34m(\u001b[0m\u001b[0mcolumns\u001b[0m\u001b[0;34m=\u001b[0m\u001b[0;34m[\u001b[0m\u001b[0;34m'ETF'\u001b[0m\u001b[0;34m,\u001b[0m\u001b[0;34m'Sector'\u001b[0m\u001b[0;34m,\u001b[0m\u001b[0;34m'RS'\u001b[0m\u001b[0;34m,\u001b[0m\u001b[0;34m'RS Ajustado'\u001b[0m\u001b[0;34m,\u001b[0m\u001b[0;34m'Semáforo'\u001b[0m\u001b[0;34m]\u001b[0m\u001b[0;34m)\u001b[0m\u001b[0;34m\u001b[0m\u001b[0;34m\u001b[0m\u001b[0m\n\u001b[1;32m     41\u001b[0m     \u001b[0mavailable\u001b[0m \u001b[0;34m=\u001b[0m \u001b[0mlist\u001b[0m\u001b[0;34m(\u001b[0m\u001b[0mrs_scaled_series\u001b[0m\u001b[0;34m.\u001b[0m\u001b[0mindex\u001b[0m\u001b[0;34m)\u001b[0m\u001b[0;34m\u001b[0m\u001b[0;34m\u001b[0m\u001b[0m\n\u001b[0;32m---> 42\u001b[0;31m     df = pd.DataFrame({\n\u001b[0m\u001b[1;32m     43\u001b[0m         \u001b[0;34m'ETF'\u001b[0m\u001b[0;34m:\u001b[0m \u001b[0mavailable\u001b[0m\u001b[0;34m,\u001b[0m\u001b[0;34m\u001b[0m\u001b[0;34m\u001b[0m\u001b[0m\n\u001b[1;32m     44\u001b[0m         \u001b[0;34m'Sector'\u001b[0m\u001b[0;34m:\u001b[0m \u001b[0;34m[\u001b[0m\u001b[0metf_nombres\u001b[0m\u001b[0;34m.\u001b[0m\u001b[0mget\u001b[0m\u001b[0;34m(\u001b[0m\u001b[0mt\u001b[0m\u001b[0;34m,\u001b[0m \u001b[0mt\u001b[0m\u001b[0;34m)\u001b[0m \u001b[0;32mfor\u001b[0m \u001b[0mt\u001b[0m \u001b[0;32min\u001b[0m \u001b[0mavailable\u001b[0m\u001b[0;34m]\u001b[0m\u001b[0;34m,\u001b[0m\u001b[0;34m\u001b[0m\u001b[0;34m\u001b[0m\u001b[0m\n",
            "\u001b[0;32m/usr/local/lib/python3.11/dist-packages/pandas/core/frame.py\u001b[0m in \u001b[0;36m__init__\u001b[0;34m(self, data, index, columns, dtype, copy)\u001b[0m\n\u001b[1;32m    776\u001b[0m         \u001b[0;32melif\u001b[0m \u001b[0misinstance\u001b[0m\u001b[0;34m(\u001b[0m\u001b[0mdata\u001b[0m\u001b[0;34m,\u001b[0m \u001b[0mdict\u001b[0m\u001b[0;34m)\u001b[0m\u001b[0;34m:\u001b[0m\u001b[0;34m\u001b[0m\u001b[0;34m\u001b[0m\u001b[0m\n\u001b[1;32m    777\u001b[0m             \u001b[0;31m# GH#38939 de facto copy defaults to False only in non-dict cases\u001b[0m\u001b[0;34m\u001b[0m\u001b[0;34m\u001b[0m\u001b[0m\n\u001b[0;32m--> 778\u001b[0;31m             \u001b[0mmgr\u001b[0m \u001b[0;34m=\u001b[0m \u001b[0mdict_to_mgr\u001b[0m\u001b[0;34m(\u001b[0m\u001b[0mdata\u001b[0m\u001b[0;34m,\u001b[0m \u001b[0mindex\u001b[0m\u001b[0;34m,\u001b[0m \u001b[0mcolumns\u001b[0m\u001b[0;34m,\u001b[0m \u001b[0mdtype\u001b[0m\u001b[0;34m=\u001b[0m\u001b[0mdtype\u001b[0m\u001b[0;34m,\u001b[0m \u001b[0mcopy\u001b[0m\u001b[0;34m=\u001b[0m\u001b[0mcopy\u001b[0m\u001b[0;34m,\u001b[0m \u001b[0mtyp\u001b[0m\u001b[0;34m=\u001b[0m\u001b[0mmanager\u001b[0m\u001b[0;34m)\u001b[0m\u001b[0;34m\u001b[0m\u001b[0;34m\u001b[0m\u001b[0m\n\u001b[0m\u001b[1;32m    779\u001b[0m         \u001b[0;32melif\u001b[0m \u001b[0misinstance\u001b[0m\u001b[0;34m(\u001b[0m\u001b[0mdata\u001b[0m\u001b[0;34m,\u001b[0m \u001b[0mma\u001b[0m\u001b[0;34m.\u001b[0m\u001b[0mMaskedArray\u001b[0m\u001b[0;34m)\u001b[0m\u001b[0;34m:\u001b[0m\u001b[0;34m\u001b[0m\u001b[0;34m\u001b[0m\u001b[0m\n\u001b[1;32m    780\u001b[0m             \u001b[0;32mfrom\u001b[0m \u001b[0mnumpy\u001b[0m\u001b[0;34m.\u001b[0m\u001b[0mma\u001b[0m \u001b[0;32mimport\u001b[0m \u001b[0mmrecords\u001b[0m\u001b[0;34m\u001b[0m\u001b[0;34m\u001b[0m\u001b[0m\n",
            "\u001b[0;32m/usr/local/lib/python3.11/dist-packages/pandas/core/internals/construction.py\u001b[0m in \u001b[0;36mdict_to_mgr\u001b[0;34m(data, index, columns, dtype, typ, copy)\u001b[0m\n\u001b[1;32m    501\u001b[0m             \u001b[0marrays\u001b[0m \u001b[0;34m=\u001b[0m \u001b[0;34m[\u001b[0m\u001b[0mx\u001b[0m\u001b[0;34m.\u001b[0m\u001b[0mcopy\u001b[0m\u001b[0;34m(\u001b[0m\u001b[0;34m)\u001b[0m \u001b[0;32mif\u001b[0m \u001b[0mhasattr\u001b[0m\u001b[0;34m(\u001b[0m\u001b[0mx\u001b[0m\u001b[0;34m,\u001b[0m \u001b[0;34m\"dtype\"\u001b[0m\u001b[0;34m)\u001b[0m \u001b[0;32melse\u001b[0m \u001b[0mx\u001b[0m \u001b[0;32mfor\u001b[0m \u001b[0mx\u001b[0m \u001b[0;32min\u001b[0m \u001b[0marrays\u001b[0m\u001b[0;34m]\u001b[0m\u001b[0;34m\u001b[0m\u001b[0;34m\u001b[0m\u001b[0m\n\u001b[1;32m    502\u001b[0m \u001b[0;34m\u001b[0m\u001b[0m\n\u001b[0;32m--> 503\u001b[0;31m     \u001b[0;32mreturn\u001b[0m \u001b[0marrays_to_mgr\u001b[0m\u001b[0;34m(\u001b[0m\u001b[0marrays\u001b[0m\u001b[0;34m,\u001b[0m \u001b[0mcolumns\u001b[0m\u001b[0;34m,\u001b[0m \u001b[0mindex\u001b[0m\u001b[0;34m,\u001b[0m \u001b[0mdtype\u001b[0m\u001b[0;34m=\u001b[0m\u001b[0mdtype\u001b[0m\u001b[0;34m,\u001b[0m \u001b[0mtyp\u001b[0m\u001b[0;34m=\u001b[0m\u001b[0mtyp\u001b[0m\u001b[0;34m,\u001b[0m \u001b[0mconsolidate\u001b[0m\u001b[0;34m=\u001b[0m\u001b[0mcopy\u001b[0m\u001b[0;34m)\u001b[0m\u001b[0;34m\u001b[0m\u001b[0;34m\u001b[0m\u001b[0m\n\u001b[0m\u001b[1;32m    504\u001b[0m \u001b[0;34m\u001b[0m\u001b[0m\n\u001b[1;32m    505\u001b[0m \u001b[0;34m\u001b[0m\u001b[0m\n",
            "\u001b[0;32m/usr/local/lib/python3.11/dist-packages/pandas/core/internals/construction.py\u001b[0m in \u001b[0;36marrays_to_mgr\u001b[0;34m(arrays, columns, index, dtype, verify_integrity, typ, consolidate)\u001b[0m\n\u001b[1;32m    112\u001b[0m         \u001b[0;31m# figure out the index, if necessary\u001b[0m\u001b[0;34m\u001b[0m\u001b[0;34m\u001b[0m\u001b[0m\n\u001b[1;32m    113\u001b[0m         \u001b[0;32mif\u001b[0m \u001b[0mindex\u001b[0m \u001b[0;32mis\u001b[0m \u001b[0;32mNone\u001b[0m\u001b[0;34m:\u001b[0m\u001b[0;34m\u001b[0m\u001b[0;34m\u001b[0m\u001b[0m\n\u001b[0;32m--> 114\u001b[0;31m             \u001b[0mindex\u001b[0m \u001b[0;34m=\u001b[0m \u001b[0m_extract_index\u001b[0m\u001b[0;34m(\u001b[0m\u001b[0marrays\u001b[0m\u001b[0;34m)\u001b[0m\u001b[0;34m\u001b[0m\u001b[0;34m\u001b[0m\u001b[0m\n\u001b[0m\u001b[1;32m    115\u001b[0m         \u001b[0;32melse\u001b[0m\u001b[0;34m:\u001b[0m\u001b[0;34m\u001b[0m\u001b[0;34m\u001b[0m\u001b[0m\n\u001b[1;32m    116\u001b[0m             \u001b[0mindex\u001b[0m \u001b[0;34m=\u001b[0m \u001b[0mensure_index\u001b[0m\u001b[0;34m(\u001b[0m\u001b[0mindex\u001b[0m\u001b[0;34m)\u001b[0m\u001b[0;34m\u001b[0m\u001b[0;34m\u001b[0m\u001b[0m\n",
            "\u001b[0;32m/usr/local/lib/python3.11/dist-packages/pandas/core/internals/construction.py\u001b[0m in \u001b[0;36m_extract_index\u001b[0;34m(data)\u001b[0m\n\u001b[1;32m    675\u001b[0m         \u001b[0mlengths\u001b[0m \u001b[0;34m=\u001b[0m \u001b[0mlist\u001b[0m\u001b[0;34m(\u001b[0m\u001b[0mset\u001b[0m\u001b[0;34m(\u001b[0m\u001b[0mraw_lengths\u001b[0m\u001b[0;34m)\u001b[0m\u001b[0;34m)\u001b[0m\u001b[0;34m\u001b[0m\u001b[0;34m\u001b[0m\u001b[0m\n\u001b[1;32m    676\u001b[0m         \u001b[0;32mif\u001b[0m \u001b[0mlen\u001b[0m\u001b[0;34m(\u001b[0m\u001b[0mlengths\u001b[0m\u001b[0;34m)\u001b[0m \u001b[0;34m>\u001b[0m \u001b[0;36m1\u001b[0m\u001b[0;34m:\u001b[0m\u001b[0;34m\u001b[0m\u001b[0;34m\u001b[0m\u001b[0m\n\u001b[0;32m--> 677\u001b[0;31m             \u001b[0;32mraise\u001b[0m \u001b[0mValueError\u001b[0m\u001b[0;34m(\u001b[0m\u001b[0;34m\"All arrays must be of the same length\"\u001b[0m\u001b[0;34m)\u001b[0m\u001b[0;34m\u001b[0m\u001b[0;34m\u001b[0m\u001b[0m\n\u001b[0m\u001b[1;32m    678\u001b[0m \u001b[0;34m\u001b[0m\u001b[0m\n\u001b[1;32m    679\u001b[0m         \u001b[0;32mif\u001b[0m \u001b[0mhave_dicts\u001b[0m\u001b[0;34m:\u001b[0m\u001b[0;34m\u001b[0m\u001b[0;34m\u001b[0m\u001b[0m\n",
            "\u001b[0;31mValueError\u001b[0m: All arrays must be of the same length"
          ]
        }
      ]
    },
    {
      "cell_type": "markdown",
      "source": [],
      "metadata": {
        "id": "xK7xm0uS0fCH"
      }
    },
    {
      "source": [
        "'''from google.colab import sheets\n",
        "sheet = sheets.InteractiveSheet(df=df)\n",
        "'''"
      ],
      "cell_type": "code",
      "execution_count": null,
      "outputs": [],
      "metadata": {
        "cellView": "form",
        "id": "_bDhNEE_LICH"
      }
    },
    {
      "cell_type": "code",
      "source": [],
      "metadata": {
        "id": "GVeJzFya5Enx"
      },
      "execution_count": null,
      "outputs": []
    }
  ]
}