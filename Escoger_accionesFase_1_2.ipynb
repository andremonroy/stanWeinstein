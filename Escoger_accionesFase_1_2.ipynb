{
  "nbformat": 4,
  "nbformat_minor": 0,
  "metadata": {
    "colab": {
      "provenance": [],
      "authorship_tag": "ABX9TyMnl1Afu382GcjVQNfWeMW9",
      "include_colab_link": true
    },
    "kernelspec": {
      "name": "python3",
      "display_name": "Python 3"
    },
    "language_info": {
      "name": "python"
    }
  },
  "cells": [
    {
      "cell_type": "markdown",
      "metadata": {
        "id": "view-in-github",
        "colab_type": "text"
      },
      "source": [
        "<a href=\"https://colab.research.google.com/github/andremonroy/stanWeinstein/blob/main/Escoger_accionesFase_1_2.ipynb\" target=\"_parent\"><img src=\"https://colab.research.google.com/assets/colab-badge.svg\" alt=\"Open In Colab\"/></a>"
      ]
    },
    {
      "cell_type": "code",
      "source": [
        "import yfinance as yf\n",
        "import pandas as pd\n",
        "import numpy as np\n",
        "import matplotlib.pyplot as plt\n",
        "import seaborn as sns\n",
        "from datetime import datetime, timedelta\n",
        "import warnings\n",
        "from typing import Dict, List, Tuple, Optional\n",
        "warnings.filterwarnings('ignore')\n",
        "\n",
        "class WeinsteeinBacktest:\n",
        "    \"\"\"\n",
        "    Sistema de backtesting para la estrategia de Stan Weinstein - Fase 1\n",
        "    Detecta tickers que están por entrar en fase 2 (pre-breakout)\n",
        "    \"\"\"\n",
        "\n",
        "    def __init__(self, tickers: List[str], benchmark: str = \"SPY\", lookback_years: int = 10):\n",
        "        self.tickers = tickers\n",
        "        self.benchmark = benchmark\n",
        "        self.lookback_years = lookback_years\n",
        "        self.data = {}\n",
        "        self.benchmark_data = None\n",
        "        self.results = []\n",
        "        self.analysis_results = {}\n",
        "\n",
        "    def download_data(self):\n",
        "        \"\"\"Descarga datos históricos para todos los tickers y benchmark\"\"\"\n",
        "        print(\"Descargando datos históricos...\")\n",
        "\n",
        "        # Calcular fecha de inicio\n",
        "        end_date = datetime.now()\n",
        "        start_date = end_date - timedelta(days=self.lookback_years * 365)\n",
        "\n",
        "        # Descargar benchmark\n",
        "        try:\n",
        "            benchmark_data = yf.download(self.benchmark, start=start_date, end=end_date, interval=\"1wk\")\n",
        "            self.benchmark_data = benchmark_data['Close'].dropna()\n",
        "            print(f\"✓ Descargado {self.benchmark}\")\n",
        "        except Exception as e:\n",
        "            print(f\"❌ Error descargando {self.benchmark}: {e}\")\n",
        "            return False\n",
        "\n",
        "        # Descargar tickers individuales\n",
        "        successful_downloads = 0\n",
        "        for ticker in self.tickers:\n",
        "            try:\n",
        "                data = yf.download(ticker, start=start_date, end=end_date, interval=\"1wk\")\n",
        "                if len(data) > 100:  # Verificar que hay suficientes datos\n",
        "                    self.data[ticker] = data\n",
        "                    successful_downloads += 1\n",
        "                    print(f\"✓ Descargado {ticker}\")\n",
        "                else:\n",
        "                    print(f\"⚠️ {ticker}: Datos insuficientes\")\n",
        "            except Exception as e:\n",
        "                print(f\"❌ Error descargando {ticker}: {e}\")\n",
        "\n",
        "        print(f\"\\nDescarga completada: {successful_downloads}/{len(self.tickers)} tickers exitosos\")\n",
        "        return successful_downloads > 0\n",
        "\n",
        "    def calculate_wma(self, prices: pd.Series, window: int = 30) -> pd.Series:\n",
        "        \"\"\"Calcula la Media Móvil Ponderada (WMA)\"\"\"\n",
        "        try:\n",
        "            if len(prices) < window:\n",
        "                return pd.Series(dtype=float)\n",
        "\n",
        "            weights = np.arange(1, window + 1)\n",
        "            wma = prices.rolling(window=window).apply(\n",
        "                lambda x: np.dot(x, weights) / weights.sum(), raw=True\n",
        "            )\n",
        "            return wma.dropna()\n",
        "        except:\n",
        "            return pd.Series(dtype=float)\n",
        "\n",
        "    def calculate_wma_slope(self, wma: pd.Series, periods: int = 3) -> float:\n",
        "        \"\"\"Calcula la pendiente de la WMA en porcentaje\"\"\"\n",
        "        try:\n",
        "            if len(wma) < periods + 1:\n",
        "                return 0.0\n",
        "\n",
        "            # Asegurar que tenemos datos válidos\n",
        "            wma_clean = wma.dropna()\n",
        "            if len(wma_clean) < periods + 1:\n",
        "                return 0.0\n",
        "\n",
        "            current_wma = float(wma_clean.iloc[-1])\n",
        "            past_wma = float(wma_clean.iloc[-(periods+1)])\n",
        "\n",
        "            if pd.isna(current_wma) or pd.isna(past_wma) or past_wma == 0:\n",
        "                return 0.0\n",
        "\n",
        "            # Calcular pendiente porcentual\n",
        "            slope = ((current_wma / past_wma) - 1) * 100\n",
        "            return slope if not pd.isna(slope) else 0.0\n",
        "        except Exception as e:\n",
        "            return 0.0\n",
        "\n",
        "    def calculate_relative_strength(self, stock_prices: pd.Series, benchmark_prices: pd.Series) -> Tuple[float, float]:\n",
        "        \"\"\"Calcula la Fuerza Relativa vs benchmark (valor actual y pendiente)\"\"\"\n",
        "        try:\n",
        "            # Alinear fechas\n",
        "            aligned = pd.concat([stock_prices, benchmark_prices], axis=1, join='inner')\n",
        "            if aligned.empty or len(aligned) < 10:\n",
        "                return 100.0, 0.0\n",
        "\n",
        "            aligned.columns = ['stock', 'benchmark']\n",
        "            aligned = aligned.dropna()\n",
        "\n",
        "            if aligned.empty or (aligned['benchmark'] == 0).any():\n",
        "                return 100.0, 0.0\n",
        "\n",
        "            # Calcular RS ratio\n",
        "            rs_series = (aligned['stock'] / aligned['benchmark']) * 100\n",
        "\n",
        "            if len(rs_series) < 4:\n",
        "                return rs_series.iloc[-1] if len(rs_series) > 0 else 100.0, 0.0\n",
        "\n",
        "            current_rs = rs_series.iloc[-1]\n",
        "            past_rs = rs_series.iloc[-4]\n",
        "\n",
        "            rs_slope = (current_rs / past_rs - 1) * 100 if past_rs != 0 else 0.0\n",
        "\n",
        "            return current_rs, rs_slope\n",
        "        except:\n",
        "            return 100.0, 0.0\n",
        "\n",
        "    def detect_base_formation(self, prices: pd.Series) -> Tuple[int, float]:\n",
        "        \"\"\"Detecta formación de base según Stan Weinstein\"\"\"\n",
        "        try:\n",
        "            if len(prices) < 20:\n",
        "                return 0, 100.0\n",
        "\n",
        "            # Calcular volatilidad anualizada\n",
        "            returns = prices.pct_change().dropna()\n",
        "            if len(returns) == 0:\n",
        "                return 0, 100.0\n",
        "\n",
        "            volatility = float(returns.std() * np.sqrt(52) * 100)\n",
        "            if pd.isna(volatility):\n",
        "                volatility = 100.0\n",
        "\n",
        "            # Algoritmo mejorado para detectar base real\n",
        "            current_price = float(prices.iloc[-1])\n",
        "\n",
        "            # Buscar el punto donde comenzó la base actual\n",
        "            # Una base es un período donde el precio oscila en un rango estrecho\n",
        "            base_start_idx = len(prices) - 1\n",
        "            base_weeks = 1\n",
        "\n",
        "            # Definir el rango de la base basado en las últimas 10 semanas\n",
        "            recent_10_weeks = prices.tail(10)\n",
        "            base_high = float(recent_10_weeks.max())\n",
        "            base_low = float(recent_10_weeks.min())\n",
        "            base_range = (base_high - base_low) / current_price\n",
        "\n",
        "            # Si el rango de las últimas 10 semanas es < 20%, buscar cuándo comenzó esta base\n",
        "            if base_range < 0.20:\n",
        "                # Buscar hacia atrás hasta encontrar cuando entró en este rango\n",
        "                for i in range(len(prices)-11, max(0, len(prices)-60), -1):  # Máximo 60 semanas atrás\n",
        "                    price_at_i = float(prices.iloc[i])\n",
        "\n",
        "                    # Verificar si este precio está dentro del rango de la base\n",
        "                    if base_low <= price_at_i <= base_high:\n",
        "                        base_weeks += 1\n",
        "                        base_start_idx = i\n",
        "                    else:\n",
        "                        # Si sale del rango, verificar si es una ruptura significativa\n",
        "                        if abs(price_at_i - current_price) / current_price > 0.25:  # Más de 25% de diferencia\n",
        "                            break\n",
        "                        else:\n",
        "                            base_weeks += 1  # Incluir pequeñas salidas del rango\n",
        "            else:\n",
        "                # No está en base actualmente\n",
        "                base_weeks = 0\n",
        "\n",
        "            return base_weeks, volatility\n",
        "\n",
        "        except Exception as e:\n",
        "            return 0, 100.0\n",
        "\n",
        "    def find_resistance_level(self, prices: pd.Series, current_price: float) -> float:\n",
        "        \"\"\"Encuentra nivel de resistencia más cercano según metodología Stan Weinstein\"\"\"\n",
        "        try:\n",
        "            if len(prices) < 50:\n",
        "                return current_price * 1.15  # Resistencia conservadora si hay pocos datos\n",
        "\n",
        "            resistances = []\n",
        "\n",
        "            # MÉTODO 1: Máximos locales significativos en últimos 2 años (104 semanas)\n",
        "            lookback_2y = min(104, len(prices))\n",
        "            prices_2y = prices.tail(lookback_2y)\n",
        "\n",
        "            # Buscar máximos locales con ventana de 4 semanas\n",
        "            for i in range(4, len(prices_2y)-4):\n",
        "                current_val = float(prices_2y.iloc[i])\n",
        "\n",
        "                # Verificar que es un máximo local\n",
        "                is_local_max = True\n",
        "                for j in range(1, 5):  # Verificar 4 períodos antes y después\n",
        "                    if (current_val <= prices_2y.iloc[i-j] or\n",
        "                        current_val <= prices_2y.iloc[i+j]):\n",
        "                        is_local_max = False\n",
        "                        break\n",
        "\n",
        "                # Si es máximo local y está arriba del precio actual\n",
        "                if is_local_max and current_val > current_price * 1.01:  # Al menos 1% arriba\n",
        "                    resistances.append(current_val)\n",
        "\n",
        "            # MÉTODO 2: Máximos absolutos por períodos\n",
        "            # Máximo de últimos 6 meses\n",
        "            if len(prices) >= 26:\n",
        "                max_6m = float(prices.tail(26).max())\n",
        "                if max_6m > current_price * 1.01:\n",
        "                    resistances.append(max_6m)\n",
        "\n",
        "            # Máximo de último año\n",
        "            if len(prices) >= 52:\n",
        "                max_1y = float(prices.tail(52).max())\n",
        "                if max_1y > current_price * 1.01:\n",
        "                    resistances.append(max_1y)\n",
        "\n",
        "            # Máximo de últimos 2 años\n",
        "            if len(prices) >= 104:\n",
        "                max_2y = float(prices.tail(104).max())\n",
        "                if max_2y > current_price * 1.01:\n",
        "                    resistances.append(max_2y)\n",
        "\n",
        "            # MÉTODO 3: Niveles psicológicos redondos\n",
        "            # Encontrar el próximo número redondo significativo\n",
        "            if current_price < 10:\n",
        "                round_levels = [5, 10, 15, 20, 25, 30, 40, 50]\n",
        "            elif current_price < 50:\n",
        "                round_levels = [25, 30, 40, 50, 60, 75, 100]\n",
        "            elif current_price < 100:\n",
        "                round_levels = [75, 100, 125, 150, 175, 200]\n",
        "            else:\n",
        "                # Para precios > $100, usar múltiplos de 25 y 50\n",
        "                base_round = int(current_price // 50) * 50\n",
        "                round_levels = [base_round + 25, base_round + 50, base_round + 75, base_round + 100]\n",
        "\n",
        "            for level in round_levels:\n",
        "                if level > current_price * 1.02:  # Al menos 2% arriba\n",
        "                    resistances.append(float(level))\n",
        "                    break  # Solo tomar el primer nivel psicológico\n",
        "\n",
        "            # Eliminar duplicados y ordenar\n",
        "            resistances = sorted(list(set(resistances)))\n",
        "\n",
        "            # Filtrar resistencias muy cercanas (menos de 3% de diferencia)\n",
        "            filtered_resistances = []\n",
        "            for r in resistances:\n",
        "                if not filtered_resistences or abs(r - filtered_resistances[-1]) / current_price > 0.03:\n",
        "                    filtered_resistances.append(r)\n",
        "\n",
        "            # Retornar la resistencia más cercana\n",
        "            if filtered_resistances:\n",
        "                return min(filtered_resistances)\n",
        "            else:\n",
        "                # Si no encuentra resistencias, calcular basado en volatilidad histórica\n",
        "                volatility_factor = max(1.10, 1 + (volatility / 100) * 0.5)  # Entre 10% y 50% dependiendo de volatilidad\n",
        "                return current_price * volatility_factor\n",
        "\n",
        "        except Exception as e:\n",
        "            return current_price * 1.20\n",
        "\n",
        "    def calculate_volume_pattern(self, volume: pd.Series) -> int:\n",
        "        \"\"\"Evalúa patrón de volumen\"\"\"\n",
        "        try:\n",
        "            if len(volume) < 20:\n",
        "                return 0\n",
        "\n",
        "            recent_vol = volume.tail(20).dropna()\n",
        "            if len(recent_vol) < 10:\n",
        "                return 0\n",
        "\n",
        "            vol_first_half = recent_vol.head(10).mean()\n",
        "            vol_second_half = recent_vol.tail(10).mean()\n",
        "            vol_cv = recent_vol.std() / recent_vol.mean()\n",
        "\n",
        "            if pd.isna(vol_first_half) or pd.isna(vol_second_half) or pd.isna(vol_cv):\n",
        "                return 0\n",
        "\n",
        "            # Volumen decreciente y estable\n",
        "            if vol_second_half < vol_first_half * 0.8 and vol_cv < 0.5:\n",
        "                return 1\n",
        "\n",
        "            # Volumen aumentando al final\n",
        "            vol_last_quarter = recent_vol.tail(5).mean()\n",
        "            if vol_last_quarter > vol_first_half * 1.2:\n",
        "                return 2\n",
        "\n",
        "            return 0\n",
        "        except:\n",
        "            return 0\n",
        "\n",
        "    def calculate_scores(self, ticker: str, date: pd.Timestamp) -> Optional[Dict]:\n",
        "        \"\"\"Calcula puntajes para todos los criterios\"\"\"\n",
        "        try:\n",
        "            stock_data = self.data[ticker]\n",
        "            data_until_date = stock_data[stock_data.index <= date]\n",
        "\n",
        "            if len(data_until_date) < 50:\n",
        "                return None\n",
        "\n",
        "            prices = data_until_date['Close'].dropna()\n",
        "            volume = data_until_date['Volume'].dropna()\n",
        "\n",
        "            if len(prices) < 30:\n",
        "                return None\n",
        "\n",
        "            current_price = float(prices.iloc[-1])\n",
        "            if current_price <= 0:\n",
        "                return None\n",
        "\n",
        "            # 1. WMA30 Score\n",
        "            wma30 = self.calculate_wma(prices, 30)\n",
        "            if len(wma30) > 0:\n",
        "                wma_slope = self.calculate_wma_slope(wma30, 3)\n",
        "                current_wma_value = float(wma30.iloc[-1])\n",
        "            else:\n",
        "                wma_slope = 0.0\n",
        "                current_wma_value = None\n",
        "\n",
        "            if wma_slope < -0.1:\n",
        "                wma_score = 0\n",
        "            elif -0.1 <= wma_slope <= 0.1:\n",
        "                wma_score = 2\n",
        "            else:\n",
        "                wma_score = 1\n",
        "\n",
        "            # 2. Base Formation Score - Corregido según Stan Weinstein\n",
        "            base_weeks, base_volatility = self.detect_base_formation(prices)\n",
        "\n",
        "            # Stan Weinstein prefiere bases de duración moderada con baja volatilidad\n",
        "            if base_weeks < 5:\n",
        "                base_score = 0  # Muy corta, no es una base sólida\n",
        "            elif 5 <= base_weeks < 15:\n",
        "                base_score = 1  # Base corta pero válida\n",
        "            elif 15 <= base_weeks <= 40:\n",
        "                # Base ideal: duración moderada con baja volatilidad\n",
        "                if base_volatility < 15:  # Baja volatilidad\n",
        "                    base_score = 2\n",
        "                elif base_volatility < 25:  # Volatilidad moderada\n",
        "                    base_score = 1\n",
        "                else:\n",
        "                    base_score = 0  # Muy volátil, no es buena base\n",
        "            else:\n",
        "                # Base muy larga (>40 semanas) - puede ser señal de debilidad\n",
        "                base_score = 0\n",
        "\n",
        "            # 3. Relative Strength Score\n",
        "            benchmark_until_date = self.benchmark_data[self.benchmark_data.index <= date]\n",
        "            current_rs, rs_slope = self.calculate_relative_strength(prices, benchmark_until_date)\n",
        "\n",
        "            if rs_slope < 0:\n",
        "                rs_score = 0\n",
        "            elif current_rs < 100 and rs_slope > 0:\n",
        "                rs_score = 2\n",
        "            elif current_rs > 100 and rs_slope > 0:\n",
        "                rs_score = 1\n",
        "            else:\n",
        "                rs_score = 0\n",
        "\n",
        "            # 4. Resistance Score - Corregido para mayor variabilidad\n",
        "            resistance = self.find_resistance_level(prices, current_price)\n",
        "            resistance_distance = (resistance / current_price - 1) * 100\n",
        "\n",
        "            # Stan Weinstein busca acciones con \"espacio para crecer\"\n",
        "            if resistance_distance < 5:\n",
        "                resistance_score = 0  # Resistencia muy cerca - poco espacio\n",
        "            elif 5 <= resistance_distance < 15:\n",
        "                resistance_score = 0  # Aún muy cerca, riesgo alto\n",
        "            elif 15 <= resistance_distance < 30:\n",
        "                resistance_score = 1  # Espacio moderado\n",
        "            else:\n",
        "                resistance_score = 2  # Mucho espacio para crecer\n",
        "\n",
        "            # 5. Volume Score\n",
        "            volume_score = self.calculate_volume_pattern(volume)\n",
        "\n",
        "            # Total Score\n",
        "            total_score = wma_score + base_score + rs_score + resistance_score + volume_score\n",
        "\n",
        "            if total_score >= 8:\n",
        "                classification = \"Verde\"\n",
        "            elif total_score >= 5:\n",
        "                classification = \"Amarillo\"\n",
        "            else:\n",
        "                classification = \"Rojo\"\n",
        "\n",
        "            return {\n",
        "                'ticker': ticker,\n",
        "                'date': date,\n",
        "                'price': current_price,\n",
        "                'wma30': current_wma_value,\n",
        "                'wma_slope': wma_slope,\n",
        "                'base_weeks': base_weeks,\n",
        "                'base_volatility': base_volatility,\n",
        "                'rs_value': current_rs,\n",
        "                'rs_slope': rs_slope,\n",
        "                'resistance_distance': resistance_distance,\n",
        "                'wma_score': wma_score,\n",
        "                'base_score': base_score,\n",
        "                'rs_score': rs_score,\n",
        "                'resistance_score': resistance_score,\n",
        "                'volume_score': volume_score,\n",
        "                'total_score': total_score,\n",
        "                'classification': classification\n",
        "            }\n",
        "\n",
        "        except Exception as e:\n",
        "            if hasattr(self, 'debug_mode') and self.debug_mode:\n",
        "                print(f\"Error detallado en {ticker} - {date}: {str(e)}\")\n",
        "            return None\n",
        "\n",
        "    def check_breakout(self, ticker: str, signal_date: pd.Timestamp, weeks_ahead: int = 8, threshold: float = 15.0) -> bool:\n",
        "        \"\"\"Verifica si hubo breakout después de la señal\"\"\"\n",
        "        try:\n",
        "            stock_data = self.data[ticker]\n",
        "            signal_price_data = stock_data[stock_data.index <= signal_date]['Close']\n",
        "\n",
        "            if signal_price_data.empty:\n",
        "                return False\n",
        "\n",
        "            signal_price = float(signal_price_data.iloc[-1])\n",
        "            if signal_price <= 0:\n",
        "                return False\n",
        "\n",
        "            future_data = stock_data[stock_data.index > signal_date]['Close'].head(weeks_ahead)\n",
        "            if future_data.empty:\n",
        "                return False\n",
        "\n",
        "            max_future_price = float(future_data.max())\n",
        "            return (max_future_price / signal_price - 1) * 100 >= threshold\n",
        "\n",
        "        except:\n",
        "            return False\n",
        "\n",
        "    def run_backtest(self, debug_mode: bool = False, focus_recent: bool = True):\n",
        "        \"\"\"Ejecuta el backtest completo\"\"\"\n",
        "        self.debug_mode = debug_mode\n",
        "        print(\"\\n🚀 Iniciando backtest de estrategia Stan Weinstein...\")\n",
        "\n",
        "        if not self.download_data():\n",
        "            print(\"❌ Error en descarga de datos\")\n",
        "            return False\n",
        "\n",
        "        print(\"\\n📊 Calculando señales...\")\n",
        "\n",
        "        total_signals = 0\n",
        "        processed_tickers = 0\n",
        "\n",
        "        tickers_to_process = list(self.data.keys())[:5] if debug_mode else list(self.data.keys())\n",
        "\n",
        "        for ticker in tickers_to_process:\n",
        "            try:\n",
        "                stock_data = self.data[ticker]\n",
        "                ticker_signals = 0\n",
        "\n",
        "                if debug_mode:\n",
        "                    print(f\"\\n🔍 DEBUG - {ticker}: {len(stock_data)} semanas de datos\")\n",
        "                    print(f\"   Rango: {stock_data.index[0].strftime('%Y-%m-%d')} a {stock_data.index[-1].strftime('%Y-%m-%d')}\")\n",
        "\n",
        "                if focus_recent:\n",
        "                    # NUEVO: Enfocarse en los últimos 2 años para análisis actual\n",
        "                    cutoff_date = datetime.now() - timedelta(days=2*365)  # Últimos 2 años\n",
        "                    recent_data = stock_data[stock_data.index >= cutoff_date]\n",
        "\n",
        "                    if len(recent_data) < 20:  # Necesitamos al menos 20 semanas recientes\n",
        "                        recent_data = stock_data.tail(52)  # Último año como mínimo\n",
        "\n",
        "                    if debug_mode:\n",
        "                        print(f\"   Análisis reciente: {len(recent_data)} semanas desde {recent_data.index[0].strftime('%Y-%m-%d')}\")\n",
        "\n",
        "                    # Evaluar solo fechas recientes (últimos 6 meses)\n",
        "                    recent_evaluation_start = max(50, len(stock_data) - 26)  # Últimas 26 semanas\n",
        "                    evaluation_points = range(recent_evaluation_start, len(stock_data), 2)  # Cada 2 semanas\n",
        "\n",
        "                else:\n",
        "                    # Análisis histórico completo\n",
        "                    evaluation_points = range(50, len(stock_data), 8 if debug_mode else 4)\n",
        "\n",
        "                for i in evaluation_points:\n",
        "                    if i >= len(stock_data):\n",
        "                        continue\n",
        "\n",
        "                    date = stock_data.index[i]\n",
        "\n",
        "                    # Para análisis reciente, solo evaluar fechas de los últimos 18 meses\n",
        "                    if focus_recent:\n",
        "                        recent_cutoff = datetime.now() - timedelta(days=18*30)  # 18 meses\n",
        "                        if date.to_pydatetime() < recent_cutoff:\n",
        "                            continue\n",
        "\n",
        "                    scores = self.calculate_scores(ticker, date)\n",
        "\n",
        "                    if scores:\n",
        "                        breakout = self.check_breakout(ticker, date)\n",
        "                        scores['breakout_occurred'] = breakout\n",
        "\n",
        "                        self.results.append(scores)\n",
        "                        total_signals += 1\n",
        "                        ticker_signals += 1\n",
        "\n",
        "                        if debug_mode and ticker_signals <= 5:\n",
        "                            print(f\"   ✅ {date.strftime('%Y-%m-%d')}: {scores['classification']} (Score: {scores['total_score']})\")\n",
        "\n",
        "                    if debug_mode and ticker_signals >= 8:  # Más señales en debug para fechas recientes\n",
        "                        break\n",
        "\n",
        "                processed_tickers += 1\n",
        "                status = \"✓\" if ticker_signals > 0 else \"⚠️\"\n",
        "                print(f\"{status} {ticker}: {ticker_signals} señales procesadas\")\n",
        "\n",
        "            except Exception as e:\n",
        "                print(f\"❌ Error procesando {ticker}: {str(e)}\")\n",
        "                continue\n",
        "\n",
        "        print(f\"\\n✅ Backtest completado:\")\n",
        "        print(f\"   • Tickers procesados: {processed_tickers}\")\n",
        "        print(f\"   • Total señales: {total_signals}\")\n",
        "\n",
        "        return total_signals > 0\n",
        "\n",
        "    def analyze_results(self):\n",
        "        \"\"\"Analiza los resultados del backtest\"\"\"\n",
        "        if not self.results:\n",
        "            print(\"❌ No hay resultados para analizar\")\n",
        "            return None\n",
        "\n",
        "        df = pd.DataFrame(self.results)\n",
        "\n",
        "        print(\"\\n📈 RESULTADOS DEL BACKTEST\")\n",
        "        print(\"=\" * 50)\n",
        "\n",
        "        total_signals = len(df)\n",
        "        verde_signals = len(df[df['classification'] == 'Verde'])\n",
        "        amarillo_signals = len(df[df['classification'] == 'Amarillo'])\n",
        "        rojo_signals = len(df[df['classification'] == 'Rojo'])\n",
        "\n",
        "        print(f\"Total de señales evaluadas: {total_signals}\")\n",
        "        print(f\"Señales Verdes: {verde_signals} ({verde_signals/total_signals*100:.1f}%)\")\n",
        "        print(f\"Señales Amarillas: {amarillo_signals} ({amarillo_signals/total_signals*100:.1f}%)\")\n",
        "        print(f\"Señales Rojas: {rojo_signals} ({rojo_signals/total_signals*100:.1f}%)\")\n",
        "\n",
        "        print(f\"\\n🎯 TASA DE ÉXITO DE BREAKOUT\")\n",
        "        print(\"-\" * 30)\n",
        "\n",
        "        for classification in ['Verde', 'Amarillo', 'Rojo']:\n",
        "            class_df = df[df['classification'] == classification]\n",
        "            if len(class_df) > 0:\n",
        "                success_rate = class_df['breakout_occurred'].mean() * 100\n",
        "                successes = class_df['breakout_occurred'].sum()\n",
        "                total = len(class_df)\n",
        "                print(f\"{classification}: {success_rate:.1f}% ({successes}/{total})\")\n",
        "\n",
        "        print(f\"\\n🔍 ANÁLISIS POR CRITERIO\")\n",
        "        print(\"-\" * 30)\n",
        "\n",
        "        criteria = ['wma_score', 'base_score', 'rs_score', 'resistance_score', 'volume_score']\n",
        "        criteria_names = ['WMA30', 'Base Formation', 'Relative Strength', 'Resistance', 'Volume']\n",
        "\n",
        "        self.analysis_results['criteria_analysis'] = {}\n",
        "\n",
        "        for criterion, name in zip(criteria, criteria_names):\n",
        "            print(f\"\\n{name}:\")\n",
        "            criterion_analysis = {}\n",
        "\n",
        "            for score in [0, 1, 2]:\n",
        "                score_df = df[df[criterion] == score]\n",
        "                if len(score_df) > 0:\n",
        "                    success_rate = score_df['breakout_occurred'].mean() * 100\n",
        "                    count = len(score_df)\n",
        "                    breakouts = score_df['breakout_occurred'].sum()\n",
        "                    print(f\"  {score} pts: {success_rate:.1f}% ({breakouts}/{count})\")\n",
        "                    criterion_analysis[score] = {\n",
        "                        'success_rate': success_rate,\n",
        "                        'count': count,\n",
        "                        'breakouts': breakouts\n",
        "                    }\n",
        "                else:\n",
        "                    criterion_analysis[score] = {'success_rate': 0, 'count': 0, 'breakouts': 0}\n",
        "\n",
        "            self.analysis_results['criteria_analysis'][name] = criterion_analysis\n",
        "\n",
        "        self.analysis_results['full_results'] = df\n",
        "        return df\n",
        "\n",
        "    def plot_results(self):\n",
        "        \"\"\"Genera gráficos de análisis\"\"\"\n",
        "        if 'full_results' not in self.analysis_results:\n",
        "            print(\"❌ No hay resultados para graficar\")\n",
        "            return\n",
        "\n",
        "        df = self.analysis_results['full_results']\n",
        "\n",
        "        plt.style.use('default')\n",
        "        fig, axes = plt.subplots(2, 3, figsize=(18, 12))\n",
        "        fig.suptitle('Análisis de Resultados - Estrategia Stan Weinstein', fontsize=16, fontweight='bold')\n",
        "\n",
        "        # 1. Distribución de clasificaciones\n",
        "        class_counts = df['classification'].value_counts()\n",
        "        colors = ['green', 'orange', 'red']\n",
        "        axes[0,0].pie(class_counts.values, labels=class_counts.index, colors=colors, autopct='%1.1f%%')\n",
        "        axes[0,0].set_title('Distribución de Señales')\n",
        "\n",
        "        # 2. Tasa de éxito por clasificación\n",
        "        success_by_class = df.groupby('classification')['breakout_occurred'].agg(['mean', 'count'])\n",
        "        success_by_class['mean'].plot(kind='bar', ax=axes[0,1], color=['green', 'orange', 'red'])\n",
        "        axes[0,1].set_title('Tasa de Éxito por Clasificación')\n",
        "        axes[0,1].set_ylabel('Tasa de Éxito')\n",
        "        axes[0,1].tick_params(axis='x', rotation=0)\n",
        "\n",
        "        # 3. Distribución de scores totales\n",
        "        axes[0,2].hist(df['total_score'], bins=range(0, 12), alpha=0.7, edgecolor='black')\n",
        "        axes[0,2].set_title('Distribución de Scores Totales')\n",
        "        axes[0,2].set_xlabel('Score Total')\n",
        "        axes[0,2].set_ylabel('Frecuencia')\n",
        "\n",
        "        # 4-6. Análisis por criterio individual\n",
        "        criteria = ['wma_score', 'base_score', 'rs_score']\n",
        "        criteria_names = ['WMA30', 'Base Formation', 'RS']\n",
        "\n",
        "        for i, (criterion, name) in enumerate(zip(criteria, criteria_names)):\n",
        "            success_by_criterion = df.groupby(criterion)['breakout_occurred'].mean()\n",
        "            success_by_criterion.plot(kind='bar', ax=axes[1,i], color='steelblue')\n",
        "            axes[1,i].set_title(f'Éxito por {name}')\n",
        "            axes[1,i].set_ylabel('Tasa de Éxito')\n",
        "            axes[1,i].set_xlabel('Puntaje')\n",
        "            axes[1,i].tick_params(axis='x', rotation=0)\n",
        "\n",
        "        plt.tight_layout()\n",
        "        plt.show()\n",
        "\n",
        "    def export_results(self, filename: str = None):\n",
        "        \"\"\"Exporta resultados a CSV\"\"\"\n",
        "        if 'full_results' not in self.analysis_results:\n",
        "            print(\"❌ No hay resultados para exportar\")\n",
        "            return None\n",
        "\n",
        "        if filename is None:\n",
        "            filename = f\"weinstein_backtest_results_{datetime.now().strftime('%Y%m%d_%H%M%S')}.csv\"\n",
        "\n",
        "        df = self.analysis_results['full_results']\n",
        "        df.to_csv(filename, index=False)\n",
        "        print(f\"✅ Resultados exportados a: {filename}\")\n",
        "        return filename\n",
        "\n",
        "    def get_recommendations(self):\n",
        "        \"\"\"Genera recomendaciones basadas en el análisis\"\"\"\n",
        "        if 'criteria_analysis' not in self.analysis_results:\n",
        "            print(\"❌ No hay análisis disponible\")\n",
        "            return\n",
        "\n",
        "        print(\"\\n💡 RECOMENDACIONES DE OPTIMIZACIÓN\")\n",
        "        print(\"=\" * 50)\n",
        "\n",
        "        criteria_analysis = self.analysis_results['criteria_analysis']\n",
        "\n",
        "        for criterion_name, analysis in criteria_analysis.items():\n",
        "            print(f\"\\n{criterion_name}:\")\n",
        "\n",
        "            success_rates = [analysis[i]['success_rate'] for i in [0, 1, 2]]\n",
        "            max_success = max(success_rates)\n",
        "            min_success = min(success_rates)\n",
        "\n",
        "            if max_success - min_success > 20:\n",
        "                best_score = success_rates.index(max_success)\n",
        "                print(f\"  ✅ Criterio muy predictivo (diferencia: {max_success-min_success:.1f}%)\")\n",
        "                print(f\"  🎯 Mejor puntaje: {best_score} pts ({max_success:.1f}% éxito)\")\n",
        "            elif max_success - min_success > 10:\n",
        "                print(f\"  ⚠️ Moderadamente predictivo (diferencia: {max_success-min_success:.1f}%)\")\n",
        "            else:\n",
        "                print(f\"  ❌ Poco predictivo (diferencia: {max_success-min_success:.1f}%)\")\n",
        "\n",
        "# Función principal\n",
        "def run_weinstein_backtest(tickers, benchmark=\"SPY\", lookback_years=10, debug_mode=False, focus_recent=True):\n",
        "    \"\"\"\n",
        "    Args:\n",
        "        focus_recent: Si True, se enfoca en análisis de fechas recientes (últimos 18 meses)\n",
        "                     Si False, hace análisis histórico completo\n",
        "    \"\"\"\n",
        "    backtest = WeinsteeinBacktest(tickers, benchmark, lookback_years)\n",
        "\n",
        "    if backtest.run_backtest(debug_mode=debug_mode, focus_recent=focus_recent):\n",
        "        results_df = backtest.analyze_results()\n",
        "        if not debug_mode:  # Solo mostrar gráficos si no es debug\n",
        "            backtest.plot_results()\n",
        "        filename = backtest.export_results()\n",
        "        backtest.get_recommendations()\n",
        "        return backtest\n",
        "    else:\n",
        "        print(\"❌ Error ejecutando el backtest\")\n",
        "        return None\n",
        "\n",
        "def debug_single_ticker(ticker, benchmark=\"SPY\"):\n",
        "    \"\"\"\n",
        "    Función de debug para analizar UN ticker específico y ver todos los cálculos\n",
        "    \"\"\"\n",
        "    print(f\"\\n🔍 ANÁLISIS DETALLADO DE {ticker}\")\n",
        "    print(\"=\" * 50)\n",
        "\n",
        "    # Descargar datos\n",
        "    end_date = datetime.now()\n",
        "    start_date = end_date - timedelta(days=3*365)  # 3 años\n",
        "\n",
        "    try:\n",
        "        stock_data = yf.download(ticker, start=start_date, end=end_date, interval=\"1wk\")\n",
        "        benchmark_data = yf.download(benchmark, start=start_date, end=end_date, interval=\"1wk\")\n",
        "\n",
        "        backtest = WeinsteeinBacktest([ticker], benchmark, 3)\n",
        "        backtest.data[ticker] = stock_data\n",
        "        backtest.benchmark_data = benchmark_data['Close']\n",
        "\n",
        "        # Analizar la fecha más reciente\n",
        "        latest_date = stock_data.index[-1]\n",
        "        prices = stock_data['Close'].dropna()\n",
        "        current_price = float(prices.iloc[-1])\n",
        "\n",
        "        print(f\"📅 Fecha de análisis: {latest_date.strftime('%Y-%m-%d')}\")\n",
        "        print(f\"💰 Precio actual: ${current_price:.2f}\")\n",
        "\n",
        "        # 1. WMA30 Analysis\n",
        "        wma30 = backtest.calculate_wma(prices, 30)\n",
        "        if len(wma30) > 0:\n",
        "            wma_slope = backtest.calculate_wma_slope(wma30, 3)\n",
        "            wma_value = float(wma30.iloc[-1])\n",
        "            print(f\"\\n📈 WMA30: ${wma_value:.2f}\")\n",
        "            print(f\"📊 WMA Slope: {wma_slope:.3f}%\")\n",
        "\n",
        "            if wma_slope < -0.1:\n",
        "                wma_interpretation = \"Bajista (0 pts)\"\n",
        "            elif -0.1 <= wma_slope <= 0.1:\n",
        "                wma_interpretation = \"Plana - Ideal para base (2 pts)\"\n",
        "            else:\n",
        "                wma_interpretation = \"Alcista (1 pt)\"\n",
        "            print(f\"🎯 Interpretación WMA: {wma_interpretation}\")\n",
        "\n",
        "        # 2. Base Formation Analysis\n",
        "        base_weeks, base_volatility = backtest.detect_base_formation(prices)\n",
        "        print(f\"\\n🏗️ Base Formation:\")\n",
        "        print(f\"📅 Duración de base: {base_weeks} semanas\")\n",
        "        print(f\"📊 Volatilidad: {base_volatility:.1f}%\")\n",
        "\n",
        "        if base_weeks < 5:\n",
        "            base_interpretation = \"Sin base válida (0 pts)\"\n",
        "        elif 5 <= base_weeks < 15:\n",
        "            base_interpretation = \"Base corta (1 pt)\"\n",
        "        elif 15 <= base_weeks <= 40 and base_volatility < 15:\n",
        "            base_interpretation = \"Base ideal (2 pts)\"\n",
        "        else:\n",
        "            base_interpretation = \"Base problemática (0 pts)\"\n",
        "        print(f\"🎯 Interpretación Base: {base_interpretation}\")\n",
        "\n",
        "        # 3. Relative Strength Analysis\n",
        "        benchmark_data_clean = backtest.benchmark_data.dropna()\n",
        "        current_rs, rs_slope = backtest.calculate_relative_strength(prices, benchmark_data_clean)\n",
        "        print(f\"\\n💪 Relative Strength:\")\n",
        "        print(f\"📊 RS actual: {current_rs:.2f}\")\n",
        "        print(f\"📈 RS slope: {rs_slope:.2f}%\")\n",
        "\n",
        "        if rs_slope < 0:\n",
        "            rs_interpretation = \"RS empeorando (0 pts)\"\n",
        "        elif current_rs < 100 and rs_slope > 0:\n",
        "            rs_interpretation = \"RS mejorando desde debajo - Ideal (2 pts)\"\n",
        "        elif current_rs > 100 and rs_slope > 0:\n",
        "            rs_interpretation = \"RS fuerte y mejorando (1 pt)\"\n",
        "        else:\n",
        "            rs_interpretation = \"RS neutral (0 pts)\"\n",
        "        print(f\"🎯 Interpretación RS: {rs_interpretation}\")\n",
        "\n",
        "        # 4. Resistance Analysis\n",
        "        resistance = backtest.find_resistance_level(prices, current_price)\n",
        "        resistance_distance = (resistance / current_price - 1) * 100\n",
        "        print(f\"\\n🚧 Resistance Analysis:\")\n",
        "        print(f\"📊 Resistencia: ${resistance:.2f}\")\n",
        "        print(f\"📏 Distancia: {resistance_distance:.1f}%\")\n",
        "\n",
        "        if resistance_distance < 5:\n",
        "            resist_interpretation = \"Muy cerca - Riesgo alto (0 pts)\"\n",
        "        elif 5 <= resistance_distance < 15:\n",
        "            resist_interpretation = \"Cerca - Riesgo moderado (0 pts)\"\n",
        "        elif 15 <= resistance_distance < 30:\n",
        "            resist_interpretation = \"Espacio moderado (1 pt)\"\n",
        "        else:\n",
        "            resist_interpretation = \"Mucho espacio - Ideal (2 pts)\"\n",
        "        print(f\"🎯 Interpretación Resistencia: {resist_interpretation}\")\n",
        "\n",
        "        # 5. Volume Analysis\n",
        "        volume = stock_data['Volume'].dropna()\n",
        "        volume_score = backtest.calculate_volume_pattern(volume)\n",
        "        print(f\"\\n📊 Volume Pattern:\")\n",
        "        print(f\"🎯 Volume Score: {volume_score} pts\")\n",
        "\n",
        "        # Score final\n",
        "        scores = backtest.calculate_scores(ticker, latest_date)\n",
        "        if scores:\n",
        "            print(f\"\\n🏆 SCORE FINAL: {scores['total_score']}/10\")\n",
        "            print(f\"🚦 Clasificación: {scores['classification']}\")\n",
        "            print(f\"\\nDesglose:\")\n",
        "            print(f\"  WMA: {scores['wma_score']}/2\")\n",
        "            print(f\"  Base: {scores['base_score']}/2\")\n",
        "            print(f\"  RS: {scores['rs_score']}/2\")\n",
        "            print(f\"  Resistance: {scores['resistance_score']}/2\")\n",
        "            print(f\"  Volume: {scores['volume_score']}/2\")\n",
        "\n",
        "    except Exception as e:\n",
        "        print(f\"❌ Error analizando {ticker}: {str(e)}\")\n",
        "\n",
        "\n",
        "def get_current_opportunities(tickers, benchmark=\"SPY\", min_score=5):\n",
        "    \"\"\"\n",
        "    Función específica para encontrar oportunidades ACTUALES\n",
        "    Evalúa solo las últimas fechas disponibles\n",
        "    \"\"\"\n",
        "    print(\"\\n🎯 BÚSQUEDA DE OPORTUNIDADES ACTUALES\")\n",
        "    print(\"=\" * 50)\n",
        "\n",
        "    backtest = WeinsteeinBacktest(tickers, benchmark, 3)  # Only the last 3 years\n",
        "\n",
        "    if not backtest.download_data():\n",
        "        return None\n",
        "\n",
        "    current_opportunities = []\n",
        "\n",
        "    for ticker in backtest.data.keys():\n",
        "        try:\n",
        "            stock_data = backtest.data[ticker]\n",
        "\n",
        "            # Evaluate only the most recent available date\n",
        "            latest_date = stock_data.index[-1]\n",
        "\n",
        "            scores = backtest.calculate_scores(ticker, latest_date)\n",
        "\n",
        "            if scores and scores['total_score'] >= min_score:\n",
        "                current_opportunities.append(scores)\n",
        "\n",
        "                status_icon = \"🟢\" if scores['classification'] == 'Verde' else \"🟡\" if scores['classification'] == 'Amarillo' else \"🔴\"\n",
        "                print(f\"{status_icon} {ticker}: Score {scores['total_score']} ({scores['classification']}) - ${scores['price']:.2f}\")\n",
        "                print(f\"    WMA: {scores['wma_score']} | Base: {scores['base_score']} | RS: {scores['rs_score']} | Resist: {scores['resistance_score']} | Vol: {scores['volume_score']}\")\n",
        "\n",
        "        except Exception as e:\n",
        "            continue\n",
        "\n",
        "    if current_opportunities:\n",
        "        df = pd.DataFrame(current_opportunities)\n",
        "        df = df.sort_values('total_score', ascending=False)\n",
        "\n",
        "        print(f\"\\n📊 RESUMEN DE OPORTUNIDADES ACTUALES:\")\n",
        "        print(f\"Total encontradas: {len(current_opportunities)}\")\n",
        "\n",
        "        verdes = len(df[df['classification'] == 'Verde'])\n",
        "        amarillas = len(df[df['classification'] == 'Amarillo'])\n",
        "\n",
        "        if verdes > 0:\n",
        "            print(f\"🟢 Señales Verdes (Score 8-10): {verdes}\")\n",
        "        if amarillas > 0:\n",
        "            print(f\"🟡 Señales Amarillas (Score 5-7): {amarillas}\")\n",
        "\n",
        "        # Export current opportunities\n",
        "        filename = f\"oportunidades_actuales_{datetime.now().strftime('%Y%m%d')}.csv\"\n",
        "        df.to_csv(filename, index=False)\n",
        "        print(f\"📁 Oportunidades exportadas a: {filename}\")\n",
        "\n",
        "        return df\n",
        "    else:\n",
        "        print(\"❌ No se encontraron oportunidades actuales con el score mínimo especificado\")\n",
        "        return None\n",
        "\n",
        "# Main function\n",
        "def run_weinstein_backtest(tickers, benchmark=\"SPY\", lookback_years=10, debug_mode=False, focus_recent=True):\n",
        "    \"\"\"\n",
        "    Args:\n",
        "        focus_recent: If True, focuses on recent date analysis (last 18 months)\n",
        "                     If False, does full historical analysis\n",
        "    \"\"\"\n",
        "    backtest = WeinsteeinBacktest(tickers, benchmark, lookback_years)\n",
        "\n",
        "    if backtest.run_backtest(debug_mode=debug_mode, focus_recent=focus_recent):\n",
        "        results_df = backtest.analyze_results()\n",
        "        if not debug_mode:  # Only show plots if not in debug mode\n",
        "            backtest.plot_results()\n",
        "        filename = backtest.export_results()\n",
        "        backtest.get_recommendations()\n",
        "        return backtest\n",
        "    else:\n",
        "        print(\"❌ Error executing backtest\")\n",
        "        return None\n",
        "\n",
        "# DEBUG FUNCTION: Analyze a specific ticker in detail\n",
        "def debug_single_ticker(ticker, benchmark=\"SPY\"):\n",
        "    \"\"\"\n",
        "    Debug function to analyze ONE specific ticker and see all calculations\n",
        "    \"\"\"\n",
        "    print(f\"\\n🔍 DETAILED ANALYSIS OF {ticker}\")\n",
        "    print(\"=\" * 50)\n",
        "\n",
        "    # Download data\n",
        "    end_date = datetime.now()\n",
        "    start_date = end_date - timedelta(days=3*365)  # 3 years\n",
        "\n",
        "    try:\n",
        "        stock_data = yf.download(ticker, start=start_date, end=end_date, interval=\"1wk\")\n",
        "        benchmark_data = yf.download(benchmark, start=start_date, end=end_date, interval=\"1wk\")\n",
        "\n",
        "        backtest = WeinsteeinBacktest([ticker], benchmark, 3)\n",
        "        backtest.data[ticker] = stock_data\n",
        "        backtest.benchmark_data = benchmark_data['Close']\n",
        "\n",
        "        # Analyze the most recent date\n",
        "        latest_date = stock_data.index[-1]\n",
        "        prices = stock_data['Close'].dropna()\n",
        "        current_price = float(prices.iloc[-1])\n",
        "\n",
        "        print(f\"📅 Analysis Date: {latest_date.strftime('%Y-%m-%d')}\")\n",
        "        print(f\"💰 Current Price: ${current_price:.2f}\")\n",
        "\n",
        "        # 1. WMA30 Analysis\n",
        "        wma30 = backtest.calculate_wma(prices, 30)\n",
        "        if len(wma30) > 0:\n",
        "            wma_slope = backtest.calculate_wma_slope(wma30, 3)\n",
        "            wma_value = float(wma30.iloc[-1])\n",
        "            print(f\"\\n📈 WMA30: ${wma_value:.2f}\")\n",
        "            print(f\"📊 WMA Slope: {wma_slope:.3f}%\")\n",
        "\n",
        "            if wma_slope < -0.1:\n",
        "                wma_interpretation = \"Bearish (0 pts)\"\n",
        "            elif -0.1 <= wma_slope <= 0.1:\n",
        "                wma_interpretation = \"Flat - Ideal for base (2 pts)\"\n",
        "            else:\n",
        "                wma_interpretation = \"Bullish (1 pt)\"\n",
        "            print(f\"🎯 WMA Interpretation: {wma_interpretation}\")\n",
        "\n",
        "        # 2. Base Formation Analysis\n",
        "        base_weeks, base_volatility = backtest.detect_base_formation(prices)\n",
        "        print(f\"\\n🏗️ Base Formation:\")\n",
        "        print(f\"📅 Base Duration: {base_weeks} weeks\")\n",
        "        print(f\"📊 Volatility: {base_volatility:.1f}%\")\n",
        "\n",
        "        if base_weeks < 5:\n",
        "            base_interpretation = \"No valid base (0 pts)\"\n",
        "        elif 5 <= base_weeks < 15:\n",
        "            base_interpretation = \"Short base (1 pt)\"\n",
        "        elif 15 <= base_weeks <= 40 and base_volatility < 15:\n",
        "            base_interpretation = \"Ideal base (2 pts)\"\n",
        "        else:\n",
        "            base_interpretation = \"Problematic base (0 pts)\"\n",
        "        print(f\"🎯 Base Interpretation: {base_interpretation}\")\n",
        "\n",
        "        # 3. Relative Strength Analysis\n",
        "        benchmark_data_clean = backtest.benchmark_data.dropna()\n",
        "        current_rs, rs_slope = backtest.calculate_relative_strength(prices, benchmark_data_clean)\n",
        "        print(f\"\\n💪 Relative Strength:\")\n",
        "        print(f\"📊 Current RS: {current_rs:.2f}\")\n",
        "        print(f\"📈 RS Slope: {rs_slope:.2f}%\")\n",
        "\n",
        "        if rs_slope < 0:\n",
        "            rs_interpretation = \"RS worsening (0 pts)\"\n",
        "        elif current_rs < 100 and rs_slope > 0:\n",
        "            rs_interpretation = \"RS improving from below - Ideal (2 pts)\"\n",
        "        elif current_rs > 100 and rs_slope > 0:\n",
        "            rs_interpretation = \"RS strong and improving (1 pt)\"\n",
        "        else:\n",
        "            rs_interpretation = \"Neutral RS (0 pts)\"\n",
        "        print(f\"🎯 RS Interpretation: {rs_interpretation}\")\n",
        "\n",
        "        # 4. Resistance Analysis\n",
        "        resistance = backtest.find_resistance_level(prices, current_price)\n",
        "        resistance_distance = (resistance / current_price - 1) * 100\n",
        "        print(f\"\\n🚧 Resistance Analysis:\")\n",
        "        print(f\"📊 Resistance: ${resistance:.2f}\")\n",
        "        print(f\"📏 Distance: {resistance_distance:.1f}%\")\n",
        "\n",
        "        if resistance_distance < 5:\n",
        "            resist_interpretation = \"Very close - High risk (0 pts)\"\n",
        "        elif 5 <= resistance_distance < 15:\n",
        "            resist_interpretation = \"Close - Moderate risk (0 pts)\"\n",
        "        elif 15 <= resistance_distance < 30:\n",
        "            resist_interpretation = \"Moderate space (1 pt)\"\n",
        "        else:\n",
        "            resist_interpretation = \"Plenty of space - Ideal (2 pts)\"\n",
        "        print(f\"🎯 Resistance Interpretation: {resist_interpretation}\")\n",
        "\n",
        "        # 5. Volume Analysis\n",
        "        volume = stock_data['Volume'].dropna()\n",
        "        volume_score = backtest.calculate_volume_pattern(volume)\n",
        "        print(f\"\\n📊 Volume Pattern:\")\n",
        "        print(f\"🎯 Volume Score: {volume_score} pts\")\n",
        "\n",
        "        # Final Score\n",
        "        scores = backtest.calculate_scores(ticker, latest_date)\n",
        "        if scores:\n",
        "            print(f\"\\n🏆 FINAL SCORE: {scores['total_score']}/10\")\n",
        "            print(f\"🚦 Classification: {scores['classification']}\")\n",
        "            print(f\"\\nBreakdown:\")\n",
        "            print(f\"  WMA: {scores['wma_score']}/2\")\n",
        "            print(f\"  Base: {scores['base_score']}/2\")\n",
        "            print(f\"  RS: {scores['rs_score']}/2\")\n",
        "            print(f\"  Resistance: {scores['resistance_score']}/2\")\n",
        "            print(f\"  Volume: {scores['volume_score']}/2\")\n",
        "\n",
        "    except Exception as e:\n",
        "        print(f\"❌ Error analyzing {ticker}: {str(e)}\")\n",
        "\n",
        "\n",
        "# EXAMPLE USAGE\n",
        "if __name__ == \"__main__\":\n",
        "    tickers_to_analyze = ['MEDP', 'TBBK', 'PODD', 'HG', 'HNGE', 'AMSC', 'KNSA', 'ALAB', 'ALNT', 'FNV', 'PRM', 'ARX', 'STX', 'RMBS', 'KGC', 'URBN', 'BAP', 'EGO', 'WDC', 'HOOD', 'APH', 'RKLB', 'EXTR', 'NVDA', 'TFPM', 'ANET', 'ATAT', 'FIX', 'OUST', 'WGS', 'LMND', 'LIF', 'RDDT', 'ARQT', 'TARS', 'MIRM', 'HSAI', 'ONC', 'KRMN']\n",
        "\n",
        "    print(\"🎯 STAN WEINSTEIN ANALYSIS SYSTEM - CURRENT OPPORTUNITIES\")\n",
        "    print(\"📋 Detecting tickers moving from Phase 1 to Phase 2\")\n",
        "    print(f\"📊 Analyzing {len(tickers_to_analyze)} tickers\")\n",
        "\n",
        "    # OPTION 1: Find CURRENT opportunities (recommended for trading)\n",
        "    print(\"\\n\" + \"=\"*60)\n",
        "    print(\"OPTION 1: CURRENT OPPORTUNITIES\")\n",
        "    print(\"=\"*60)\n",
        "\n",
        "    current_opps = get_current_opportunities(tickers_to_analyze, min_score=5)\n",
        "\n",
        "    # OPTION 2: Recent historical analysis (last 18 months) to validate strategy\n",
        "    print(\"\\n\" + \"=\"*60)\n",
        "    print(\"OPTION 2: STRATEGY VALIDATION (LAST 18 MONTHS)\")\n",
        "    print(\"=\"*60)\n",
        "\n",
        "    backtest_results = run_weinstein_backtest(\n",
        "        tickers=tickers_to_analyze,\n",
        "        benchmark=\"SPY\",\n",
        "        lookback_years=3,  # Only last 3 years\n",
        "        debug_mode=False,\n",
        "        focus_recent=True  # Focus on recent dates\n",
        "    )\n",
        "\n",
        "    if backtest_results:\n",
        "        print(\"\\n🎉 Analysis completed!\")\n",
        "        print(\"📁 Check generated CSV files\")\n",
        "        print(\"📈 Use current opportunities for your trading strategy\")\n",
        "\n",
        "    # OPTIONAL: Full historical analysis (for deep research)\n",
        "    print(\"\\n\" + \"=\"*60)\n",
        "    print(\"OPTION 3: FULL HISTORICAL ANALYSIS (OPTIONAL)\")\n",
        "    print(\"=\"*60)\n",
        "    print(\"Do you also want to run the full historical analysis?\")\n",
        "    print(\"(This takes longer but validates the strategy across different market conditions)\")\n",
        "\n",
        "    # You can uncomment the following lines for full historical analysis:\n",
        "    # historical_results = run_weinstein_backtest(\n",
        "    #     tickers=tickers_to_analyze,\n",
        "    #     benchmark=\"SPY\",\n",
        "    #     lookback_years=10,\n",
        "    #     debug_mode=False,\n",
        "    #     focus_recent=False  # Full historical analysis\n",
        "    # )\n",
        "\n",
        "    # DEBUG FUNCTION: Analyze a specific ticker in detail\n",
        "    print(\"\\n\" + \"=\"*60)\n",
        "    print(\"DEBUG FUNCTION: DETAILED ANALYSIS\")\n",
        "    print(\"=\"*60)\n",
        "    print(\"For individual debug, run:\")\n",
        "    print(\"debug_single_ticker('AAPL')  # Replace AAPL with the ticker you want to analyze\")\n",
        "\n",
        "    # Example of automatic debug of the best candidate ticker\n",
        "    if current_opps is not None and len(current_opps) > 0:\n",
        "        best_ticker = current_opps.iloc[0]['ticker']\n",
        "        print(f\"\\n🔍 Analyzing the best candidate in detail: {best_ticker}\")\n",
        "        debug_single_ticker(best_ticker)"
      ],
      "metadata": {
        "colab": {
          "base_uri": "https://localhost:8080/",
          "height": 1000
        },
        "id": "uacjgGS_bkaP",
        "outputId": "f2623750-f067-4cc9-fb13-04299236967f"
      },
      "execution_count": 9,
      "outputs": [
        {
          "output_type": "stream",
          "name": "stdout",
          "text": [
            "🎯 STAN WEINSTEIN ANALYSIS SYSTEM - CURRENT OPPORTUNITIES\n",
            "📋 Detecting tickers moving from Phase 1 to Phase 2\n",
            "📊 Analyzing 39 tickers\n",
            "\n",
            "============================================================\n",
            "OPTION 1: CURRENT OPPORTUNITIES\n",
            "============================================================\n",
            "\n",
            "🎯 BÚSQUEDA DE OPORTUNIDADES ACTUALES\n",
            "==================================================\n",
            "Descargando datos históricos...\n"
          ]
        },
        {
          "output_type": "stream",
          "name": "stderr",
          "text": [
            "\r[*********************100%***********************]  1 of 1 completed\n"
          ]
        },
        {
          "output_type": "stream",
          "name": "stdout",
          "text": [
            "✓ Descargado SPY\n"
          ]
        },
        {
          "output_type": "stream",
          "name": "stderr",
          "text": [
            "[*********************100%***********************]  1 of 1 completed\n",
            "[*********************100%***********************]  1 of 1 completed\n"
          ]
        },
        {
          "output_type": "stream",
          "name": "stdout",
          "text": [
            "✓ Descargado MEDP\n",
            "✓ Descargado TBBK\n"
          ]
        },
        {
          "output_type": "stream",
          "name": "stderr",
          "text": [
            "\r[*********************100%***********************]  1 of 1 completed\n"
          ]
        },
        {
          "output_type": "stream",
          "name": "stdout",
          "text": [
            "✓ Descargado PODD\n"
          ]
        },
        {
          "output_type": "stream",
          "name": "stderr",
          "text": [
            "[*********************100%***********************]  1 of 1 completed\n",
            "[*********************100%***********************]  1 of 1 completed\n"
          ]
        },
        {
          "output_type": "stream",
          "name": "stdout",
          "text": [
            "⚠️ HG: Datos insuficientes\n",
            "⚠️ HNGE: Datos insuficientes\n"
          ]
        },
        {
          "output_type": "stream",
          "name": "stderr",
          "text": [
            "\r[*********************100%***********************]  1 of 1 completed\n"
          ]
        },
        {
          "output_type": "stream",
          "name": "stdout",
          "text": [
            "✓ Descargado AMSC\n"
          ]
        },
        {
          "output_type": "stream",
          "name": "stderr",
          "text": [
            "\r[*********************100%***********************]  1 of 1 completed\n"
          ]
        },
        {
          "output_type": "stream",
          "name": "stdout",
          "text": [
            "✓ Descargado KNSA\n"
          ]
        },
        {
          "output_type": "stream",
          "name": "stderr",
          "text": [
            "\r[*********************100%***********************]  1 of 1 completed\n"
          ]
        },
        {
          "output_type": "stream",
          "name": "stdout",
          "text": [
            "⚠️ ALAB: Datos insuficientes\n"
          ]
        },
        {
          "output_type": "stream",
          "name": "stderr",
          "text": [
            "\r[*********************100%***********************]  1 of 1 completed\n"
          ]
        },
        {
          "output_type": "stream",
          "name": "stdout",
          "text": [
            "✓ Descargado ALNT\n"
          ]
        },
        {
          "output_type": "stream",
          "name": "stderr",
          "text": [
            "\r[*********************100%***********************]  1 of 1 completed\n"
          ]
        },
        {
          "output_type": "stream",
          "name": "stdout",
          "text": [
            "✓ Descargado FNV\n"
          ]
        },
        {
          "output_type": "stream",
          "name": "stderr",
          "text": [
            "\r[*********************100%***********************]  1 of 1 completed\n"
          ]
        },
        {
          "output_type": "stream",
          "name": "stdout",
          "text": [
            "✓ Descargado PRM\n"
          ]
        },
        {
          "output_type": "stream",
          "name": "stderr",
          "text": [
            "\r[*********************100%***********************]  1 of 1 completed\n"
          ]
        },
        {
          "output_type": "stream",
          "name": "stdout",
          "text": [
            "⚠️ ARX: Datos insuficientes\n"
          ]
        },
        {
          "output_type": "stream",
          "name": "stderr",
          "text": [
            "\r[*********************100%***********************]  1 of 1 completed\n"
          ]
        },
        {
          "output_type": "stream",
          "name": "stdout",
          "text": [
            "✓ Descargado STX\n"
          ]
        },
        {
          "output_type": "stream",
          "name": "stderr",
          "text": [
            "\r[*********************100%***********************]  1 of 1 completed\n"
          ]
        },
        {
          "output_type": "stream",
          "name": "stdout",
          "text": [
            "✓ Descargado RMBS\n"
          ]
        },
        {
          "output_type": "stream",
          "name": "stderr",
          "text": [
            "[*********************100%***********************]  1 of 1 completed\n",
            "[*********************100%***********************]  1 of 1 completed\n"
          ]
        },
        {
          "output_type": "stream",
          "name": "stdout",
          "text": [
            "✓ Descargado KGC\n",
            "✓ Descargado URBN\n"
          ]
        },
        {
          "output_type": "stream",
          "name": "stderr",
          "text": [
            "\r[*********************100%***********************]  1 of 1 completed\n"
          ]
        },
        {
          "output_type": "stream",
          "name": "stdout",
          "text": [
            "✓ Descargado BAP\n"
          ]
        },
        {
          "output_type": "stream",
          "name": "stderr",
          "text": [
            "\r[*********************100%***********************]  1 of 1 completed\n"
          ]
        },
        {
          "output_type": "stream",
          "name": "stdout",
          "text": [
            "✓ Descargado EGO\n"
          ]
        },
        {
          "output_type": "stream",
          "name": "stderr",
          "text": [
            "\r[*********************100%***********************]  1 of 1 completed\n"
          ]
        },
        {
          "output_type": "stream",
          "name": "stdout",
          "text": [
            "✓ Descargado WDC\n"
          ]
        },
        {
          "output_type": "stream",
          "name": "stderr",
          "text": [
            "\r[*********************100%***********************]  1 of 1 completed\n"
          ]
        },
        {
          "output_type": "stream",
          "name": "stdout",
          "text": [
            "✓ Descargado HOOD\n"
          ]
        },
        {
          "output_type": "stream",
          "name": "stderr",
          "text": [
            "[*********************100%***********************]  1 of 1 completed\n",
            "[*********************100%***********************]  1 of 1 completed\n"
          ]
        },
        {
          "output_type": "stream",
          "name": "stdout",
          "text": [
            "✓ Descargado APH\n",
            "✓ Descargado RKLB\n"
          ]
        },
        {
          "output_type": "stream",
          "name": "stderr",
          "text": [
            "[*********************100%***********************]  1 of 1 completed\n",
            "[*********************100%***********************]  1 of 1 completed\n"
          ]
        },
        {
          "output_type": "stream",
          "name": "stdout",
          "text": [
            "✓ Descargado EXTR\n",
            "✓ Descargado NVDA\n"
          ]
        },
        {
          "output_type": "stream",
          "name": "stderr",
          "text": [
            "\r[*********************100%***********************]  1 of 1 completed\n"
          ]
        },
        {
          "output_type": "stream",
          "name": "stdout",
          "text": [
            "✓ Descargado TFPM\n"
          ]
        },
        {
          "output_type": "stream",
          "name": "stderr",
          "text": [
            "\r[*********************100%***********************]  1 of 1 completed\n"
          ]
        },
        {
          "output_type": "stream",
          "name": "stdout",
          "text": [
            "✓ Descargado ANET\n"
          ]
        },
        {
          "output_type": "stream",
          "name": "stderr",
          "text": [
            "\r[*********************100%***********************]  1 of 1 completed\n"
          ]
        },
        {
          "output_type": "stream",
          "name": "stdout",
          "text": [
            "✓ Descargado ATAT\n"
          ]
        },
        {
          "output_type": "stream",
          "name": "stderr",
          "text": [
            "\r[*********************100%***********************]  1 of 1 completed\n"
          ]
        },
        {
          "output_type": "stream",
          "name": "stdout",
          "text": [
            "✓ Descargado FIX\n"
          ]
        },
        {
          "output_type": "stream",
          "name": "stderr",
          "text": [
            "\r[*********************100%***********************]  1 of 1 completed\n"
          ]
        },
        {
          "output_type": "stream",
          "name": "stdout",
          "text": [
            "✓ Descargado OUST\n"
          ]
        },
        {
          "output_type": "stream",
          "name": "stderr",
          "text": [
            "\r[*********************100%***********************]  1 of 1 completed\n"
          ]
        },
        {
          "output_type": "stream",
          "name": "stdout",
          "text": [
            "✓ Descargado WGS\n"
          ]
        },
        {
          "output_type": "stream",
          "name": "stderr",
          "text": [
            "\r[*********************100%***********************]  1 of 1 completed\n"
          ]
        },
        {
          "output_type": "stream",
          "name": "stdout",
          "text": [
            "✓ Descargado LMND\n"
          ]
        },
        {
          "output_type": "stream",
          "name": "stderr",
          "text": [
            "\r[*********************100%***********************]  1 of 1 completed\n"
          ]
        },
        {
          "output_type": "stream",
          "name": "stdout",
          "text": [
            "⚠️ LIF: Datos insuficientes\n"
          ]
        },
        {
          "output_type": "stream",
          "name": "stderr",
          "text": [
            "\r[*********************100%***********************]  1 of 1 completed\n"
          ]
        },
        {
          "output_type": "stream",
          "name": "stdout",
          "text": [
            "⚠️ RDDT: Datos insuficientes\n"
          ]
        },
        {
          "output_type": "stream",
          "name": "stderr",
          "text": [
            "\r[*********************100%***********************]  1 of 1 completed\n"
          ]
        },
        {
          "output_type": "stream",
          "name": "stdout",
          "text": [
            "✓ Descargado ARQT\n"
          ]
        },
        {
          "output_type": "stream",
          "name": "stderr",
          "text": [
            "\r[*********************100%***********************]  1 of 1 completed\n"
          ]
        },
        {
          "output_type": "stream",
          "name": "stdout",
          "text": [
            "✓ Descargado TARS\n"
          ]
        },
        {
          "output_type": "stream",
          "name": "stderr",
          "text": [
            "\r[*********************100%***********************]  1 of 1 completed\n"
          ]
        },
        {
          "output_type": "stream",
          "name": "stdout",
          "text": [
            "✓ Descargado MIRM\n"
          ]
        },
        {
          "output_type": "stream",
          "name": "stderr",
          "text": [
            "\r[*********************100%***********************]  1 of 1 completed\n"
          ]
        },
        {
          "output_type": "stream",
          "name": "stdout",
          "text": [
            "✓ Descargado HSAI\n"
          ]
        },
        {
          "output_type": "stream",
          "name": "stderr",
          "text": [
            "\r[*********************100%***********************]  1 of 1 completed\n"
          ]
        },
        {
          "output_type": "stream",
          "name": "stdout",
          "text": [
            "✓ Descargado ONC\n"
          ]
        },
        {
          "output_type": "stream",
          "name": "stderr",
          "text": [
            "\r[*********************100%***********************]  1 of 1 completed\n"
          ]
        },
        {
          "output_type": "stream",
          "name": "stdout",
          "text": [
            "⚠️ KRMN: Datos insuficientes\n",
            "\n",
            "Descarga completada: 32/39 tickers exitosos\n",
            "🟡 PODD: Score 5 (Amarillo) - $342.00\n",
            "    WMA: 1 | Base: 1 | RS: 2 | Resist: 1 | Vol: 0\n",
            "🟡 RMBS: Score 5 (Amarillo) - $74.74\n",
            "    WMA: 1 | Base: 1 | RS: 2 | Resist: 1 | Vol: 0\n",
            "🟡 BAP: Score 5 (Amarillo) - $261.32\n",
            "    WMA: 1 | Base: 1 | RS: 2 | Resist: 1 | Vol: 0\n",
            "🟡 APH: Score 5 (Amarillo) - $110.01\n",
            "    WMA: 1 | Base: 1 | RS: 2 | Resist: 1 | Vol: 0\n",
            "🟡 TFPM: Score 5 (Amarillo) - $27.56\n",
            "    WMA: 1 | Base: 1 | RS: 2 | Resist: 1 | Vol: 0\n",
            "🟡 ATAT: Score 5 (Amarillo) - $38.90\n",
            "    WMA: 1 | Base: 1 | RS: 2 | Resist: 1 | Vol: 0\n",
            "\n",
            "📊 RESUMEN DE OPORTUNIDADES ACTUALES:\n",
            "Total encontradas: 6\n",
            "🟡 Señales Amarillas (Score 5-7): 6\n",
            "📁 Oportunidades exportadas a: oportunidades_actuales_20250903.csv\n",
            "\n",
            "============================================================\n",
            "OPTION 2: STRATEGY VALIDATION (LAST 18 MONTHS)\n",
            "============================================================\n",
            "\n",
            "🚀 Iniciando backtest de estrategia Stan Weinstein...\n",
            "Descargando datos históricos...\n"
          ]
        },
        {
          "output_type": "stream",
          "name": "stderr",
          "text": [
            "[*********************100%***********************]  1 of 1 completed\n",
            "[*********************100%***********************]  1 of 1 completed\n"
          ]
        },
        {
          "output_type": "stream",
          "name": "stdout",
          "text": [
            "✓ Descargado SPY\n",
            "✓ Descargado MEDP\n"
          ]
        },
        {
          "output_type": "stream",
          "name": "stderr",
          "text": [
            "[*********************100%***********************]  1 of 1 completed\n",
            "[*********************100%***********************]  1 of 1 completed\n"
          ]
        },
        {
          "output_type": "stream",
          "name": "stdout",
          "text": [
            "✓ Descargado TBBK\n",
            "✓ Descargado PODD\n"
          ]
        },
        {
          "output_type": "stream",
          "name": "stderr",
          "text": [
            "[*********************100%***********************]  1 of 1 completed\n",
            "[*********************100%***********************]  1 of 1 completed\n"
          ]
        },
        {
          "output_type": "stream",
          "name": "stdout",
          "text": [
            "⚠️ HG: Datos insuficientes\n",
            "⚠️ HNGE: Datos insuficientes\n"
          ]
        },
        {
          "output_type": "stream",
          "name": "stderr",
          "text": [
            "[*********************100%***********************]  1 of 1 completed\n",
            "[*********************100%***********************]  1 of 1 completed\n"
          ]
        },
        {
          "output_type": "stream",
          "name": "stdout",
          "text": [
            "✓ Descargado AMSC\n",
            "✓ Descargado KNSA\n"
          ]
        },
        {
          "output_type": "stream",
          "name": "stderr",
          "text": [
            "[*********************100%***********************]  1 of 1 completed\n",
            "[*********************100%***********************]  1 of 1 completed\n"
          ]
        },
        {
          "output_type": "stream",
          "name": "stdout",
          "text": [
            "⚠️ ALAB: Datos insuficientes\n",
            "✓ Descargado ALNT\n"
          ]
        },
        {
          "output_type": "stream",
          "name": "stderr",
          "text": [
            "[*********************100%***********************]  1 of 1 completed\n",
            "[*********************100%***********************]  1 of 1 completed\n"
          ]
        },
        {
          "output_type": "stream",
          "name": "stdout",
          "text": [
            "✓ Descargado FNV\n",
            "✓ Descargado PRM\n"
          ]
        },
        {
          "output_type": "stream",
          "name": "stderr",
          "text": [
            "[*********************100%***********************]  1 of 1 completed\n",
            "[*********************100%***********************]  1 of 1 completed\n"
          ]
        },
        {
          "output_type": "stream",
          "name": "stdout",
          "text": [
            "⚠️ ARX: Datos insuficientes\n",
            "✓ Descargado STX\n"
          ]
        },
        {
          "output_type": "stream",
          "name": "stderr",
          "text": [
            "\r[*********************100%***********************]  1 of 1 completed\n"
          ]
        },
        {
          "output_type": "stream",
          "name": "stdout",
          "text": [
            "✓ Descargado RMBS\n"
          ]
        },
        {
          "output_type": "stream",
          "name": "stderr",
          "text": [
            "[*********************100%***********************]  1 of 1 completed\n",
            "[*********************100%***********************]  1 of 1 completed\n"
          ]
        },
        {
          "output_type": "stream",
          "name": "stdout",
          "text": [
            "✓ Descargado KGC\n",
            "✓ Descargado URBN\n"
          ]
        },
        {
          "output_type": "stream",
          "name": "stderr",
          "text": [
            "[*********************100%***********************]  1 of 1 completed\n",
            "[*********************100%***********************]  1 of 1 completed\n"
          ]
        },
        {
          "output_type": "stream",
          "name": "stdout",
          "text": [
            "✓ Descargado BAP\n",
            "✓ Descargado EGO\n"
          ]
        },
        {
          "output_type": "stream",
          "name": "stderr",
          "text": [
            "[*********************100%***********************]  1 of 1 completed\n",
            "[*********************100%***********************]  1 of 1 completed\n"
          ]
        },
        {
          "output_type": "stream",
          "name": "stdout",
          "text": [
            "✓ Descargado WDC\n",
            "✓ Descargado HOOD\n"
          ]
        },
        {
          "output_type": "stream",
          "name": "stderr",
          "text": [
            "[*********************100%***********************]  1 of 1 completed\n",
            "[*********************100%***********************]  1 of 1 completed\n"
          ]
        },
        {
          "output_type": "stream",
          "name": "stdout",
          "text": [
            "✓ Descargado APH\n",
            "✓ Descargado RKLB\n"
          ]
        },
        {
          "output_type": "stream",
          "name": "stderr",
          "text": [
            "[*********************100%***********************]  1 of 1 completed\n",
            "[*********************100%***********************]  1 of 1 completed\n"
          ]
        },
        {
          "output_type": "stream",
          "name": "stdout",
          "text": [
            "✓ Descargado EXTR\n",
            "✓ Descargado NVDA\n"
          ]
        },
        {
          "output_type": "stream",
          "name": "stderr",
          "text": [
            "\r[*********************100%***********************]  1 of 1 completed\n"
          ]
        },
        {
          "output_type": "stream",
          "name": "stdout",
          "text": [
            "✓ Descargado TFPM\n"
          ]
        },
        {
          "output_type": "stream",
          "name": "stderr",
          "text": [
            "[*********************100%***********************]  1 of 1 completed\n",
            "[*********************100%***********************]  1 of 1 completed\n"
          ]
        },
        {
          "output_type": "stream",
          "name": "stdout",
          "text": [
            "✓ Descargado ANET\n",
            "✓ Descargado ATAT\n"
          ]
        },
        {
          "output_type": "stream",
          "name": "stderr",
          "text": [
            "[*********************100%***********************]  1 of 1 completed\n",
            "[*********************100%***********************]  1 of 1 completed\n"
          ]
        },
        {
          "output_type": "stream",
          "name": "stdout",
          "text": [
            "✓ Descargado FIX\n",
            "✓ Descargado OUST\n"
          ]
        },
        {
          "output_type": "stream",
          "name": "stderr",
          "text": [
            "\r[*********************100%***********************]  1 of 1 completed\n"
          ]
        },
        {
          "output_type": "stream",
          "name": "stdout",
          "text": [
            "✓ Descargado WGS\n"
          ]
        },
        {
          "output_type": "stream",
          "name": "stderr",
          "text": [
            "[*********************100%***********************]  1 of 1 completed\n",
            "[*********************100%***********************]  1 of 1 completed\n"
          ]
        },
        {
          "output_type": "stream",
          "name": "stdout",
          "text": [
            "✓ Descargado LMND\n",
            "⚠️ LIF: Datos insuficientes\n"
          ]
        },
        {
          "output_type": "stream",
          "name": "stderr",
          "text": [
            "[*********************100%***********************]  1 of 1 completed\n",
            "[*********************100%***********************]  1 of 1 completed\n"
          ]
        },
        {
          "output_type": "stream",
          "name": "stdout",
          "text": [
            "⚠️ RDDT: Datos insuficientes\n",
            "✓ Descargado ARQT\n"
          ]
        },
        {
          "output_type": "stream",
          "name": "stderr",
          "text": [
            "[*********************100%***********************]  1 of 1 completed\n",
            "[*********************100%***********************]  1 of 1 completed\n"
          ]
        },
        {
          "output_type": "stream",
          "name": "stdout",
          "text": [
            "✓ Descargado TARS\n",
            "✓ Descargado MIRM\n"
          ]
        },
        {
          "output_type": "stream",
          "name": "stderr",
          "text": [
            "[*********************100%***********************]  1 of 1 completed\n",
            "[*********************100%***********************]  1 of 1 completed\n"
          ]
        },
        {
          "output_type": "stream",
          "name": "stdout",
          "text": [
            "✓ Descargado HSAI\n",
            "✓ Descargado ONC\n"
          ]
        },
        {
          "output_type": "stream",
          "name": "stderr",
          "text": [
            "\r[*********************100%***********************]  1 of 1 completed\n"
          ]
        },
        {
          "output_type": "stream",
          "name": "stdout",
          "text": [
            "⚠️ KRMN: Datos insuficientes\n",
            "\n",
            "Descarga completada: 32/39 tickers exitosos\n",
            "\n",
            "📊 Calculando señales...\n",
            "✓ MEDP: 13 señales procesadas\n",
            "✓ TBBK: 13 señales procesadas\n",
            "✓ PODD: 13 señales procesadas\n",
            "✓ AMSC: 13 señales procesadas\n",
            "✓ KNSA: 13 señales procesadas\n",
            "✓ ALNT: 13 señales procesadas\n",
            "✓ FNV: 13 señales procesadas\n",
            "✓ PRM: 13 señales procesadas\n",
            "✓ STX: 13 señales procesadas\n",
            "✓ RMBS: 13 señales procesadas\n",
            "✓ KGC: 13 señales procesadas\n",
            "✓ URBN: 13 señales procesadas\n",
            "✓ BAP: 13 señales procesadas\n",
            "✓ EGO: 13 señales procesadas\n",
            "✓ WDC: 13 señales procesadas\n",
            "✓ HOOD: 13 señales procesadas\n",
            "✓ APH: 13 señales procesadas\n",
            "✓ RKLB: 13 señales procesadas\n",
            "✓ EXTR: 13 señales procesadas\n",
            "✓ NVDA: 13 señales procesadas\n",
            "✓ TFPM: 13 señales procesadas\n",
            "✓ ANET: 13 señales procesadas\n",
            "✓ ATAT: 13 señales procesadas\n",
            "✓ FIX: 13 señales procesadas\n",
            "✓ OUST: 13 señales procesadas\n",
            "✓ WGS: 13 señales procesadas\n",
            "✓ LMND: 13 señales procesadas\n",
            "✓ ARQT: 13 señales procesadas\n",
            "✓ TARS: 13 señales procesadas\n",
            "✓ MIRM: 13 señales procesadas\n",
            "✓ HSAI: 13 señales procesadas\n",
            "✓ ONC: 13 señales procesadas\n",
            "\n",
            "✅ Backtest completado:\n",
            "   • Tickers procesados: 32\n",
            "   • Total señales: 416\n",
            "\n",
            "📈 RESULTADOS DEL BACKTEST\n",
            "==================================================\n",
            "Total de señales evaluadas: 416\n",
            "Señales Verdes: 0 (0.0%)\n",
            "Señales Amarillas: 31 (7.5%)\n",
            "Señales Rojas: 385 (92.5%)\n",
            "\n",
            "🎯 TASA DE ÉXITO DE BREAKOUT\n",
            "------------------------------\n",
            "Amarillo: 25.8% (8/31)\n",
            "Rojo: 58.4% (225/385)\n",
            "\n",
            "🔍 ANÁLISIS POR CRITERIO\n",
            "------------------------------\n",
            "\n",
            "WMA30:\n",
            "  0 pts: 82.1% (87/106)\n",
            "  1 pts: 46.7% (143/306)\n",
            "  2 pts: 75.0% (3/4)\n",
            "\n",
            "Base Formation:\n",
            "  0 pts: 58.9% (216/367)\n",
            "  1 pts: 34.7% (17/49)\n",
            "\n",
            "Relative Strength:\n",
            "  0 pts: 64.3% (90/140)\n",
            "  1 pts: 0.0% (0/2)\n",
            "  2 pts: 52.2% (143/274)\n",
            "\n",
            "Resistance:\n",
            "  1 pts: 56.0% (233/416)\n",
            "\n",
            "Volume:\n",
            "  0 pts: 56.0% (233/416)\n"
          ]
        },
        {
          "output_type": "display_data",
          "data": {
            "text/plain": [
              "<Figure size 1800x1200 with 6 Axes>"
            ],
            "image/png": "[encoded data removed]"
          },
          "metadata": {}
        },
        {
          "output_type": "stream",
          "name": "stderr",
          "text": [
            "\r[*********************100%***********************]  1 of 1 completed"
          ]
        },
        {
          "output_type": "stream",
          "name": "stdout",
          "text": [
            "✅ Resultados exportados a: weinstein_backtest_results_20250903_144419.csv\n",
            "\n",
            "💡 RECOMENDACIONES DE OPTIMIZACIÓN\n",
            "==================================================\n",
            "\n",
            "WMA30:\n",
            "  ✅ Criterio muy predictivo (diferencia: 35.3%)\n",
            "  🎯 Mejor puntaje: 0 pts (82.1% éxito)\n",
            "\n",
            "Base Formation:\n",
            "  ✅ Criterio muy predictivo (diferencia: 58.9%)\n",
            "  🎯 Mejor puntaje: 0 pts (58.9% éxito)\n",
            "\n",
            "Relative Strength:\n",
            "  ✅ Criterio muy predictivo (diferencia: 64.3%)\n",
            "  🎯 Mejor puntaje: 0 pts (64.3% éxito)\n",
            "\n",
            "Resistance:\n",
            "  ✅ Criterio muy predictivo (diferencia: 56.0%)\n",
            "  🎯 Mejor puntaje: 1 pts (56.0% éxito)\n",
            "\n",
            "Volume:\n",
            "  ✅ Criterio muy predictivo (diferencia: 56.0%)\n",
            "  🎯 Mejor puntaje: 0 pts (56.0% éxito)\n",
            "\n",
            "🎉 Analysis completed!\n",
            "📁 Check generated CSV files\n",
            "📈 Use current opportunities for your trading strategy\n",
            "\n",
            "============================================================\n",
            "OPTION 3: FULL HISTORICAL ANALYSIS (OPTIONAL)\n",
            "============================================================\n",
            "Do you also want to run the full historical analysis?\n",
            "(This takes longer but validates the strategy across different market conditions)\n",
            "\n",
            "============================================================\n",
            "DEBUG FUNCTION: DETAILED ANALYSIS\n",
            "============================================================\n",
            "For individual debug, run:\n",
            "debug_single_ticker('AAPL')  # Replace AAPL with the ticker you want to analyze\n",
            "\n",
            "🔍 Analyzing the best candidate in detail: PODD\n",
            "\n",
            "🔍 DETAILED ANALYSIS OF PODD\n",
            "==================================================\n"
          ]
        },
        {
          "output_type": "stream",
          "name": "stderr",
          "text": [
            "\n",
            "[*********************100%***********************]  1 of 1 completed"
          ]
        },
        {
          "output_type": "stream",
          "name": "stdout",
          "text": [
            "📅 Analysis Date: 2025-09-01\n",
            "💰 Current Price: $342.00\n",
            "\n",
            "📈 WMA30: $302.79\n",
            "📊 WMA Slope: 3.311%\n",
            "🎯 WMA Interpretation: Bullish (1 pt)\n",
            "\n",
            "🏗️ Base Formation:\n",
            "📅 Base Duration: 11 weeks\n",
            "📊 Volatility: 41.5%\n",
            "🎯 Base Interpretation: Short base (1 pt)\n",
            "\n",
            "💪 Relative Strength:\n",
            "📊 Current RS: 53.12\n",
            "📈 RS Slope: 6.39%\n",
            "🎯 RS Interpretation: RS improving from below - Ideal (2 pts)\n",
            "\n",
            "🚧 Resistance Analysis:\n",
            "📊 Resistance: $410.40\n",
            "📏 Distance: 20.0%\n",
            "🎯 Resistance Interpretation: Moderate space (1 pt)\n",
            "\n",
            "📊 Volume Pattern:\n",
            "🎯 Volume Score: 0 pts\n",
            "\n",
            "🏆 FINAL SCORE: 5/10\n",
            "🚦 Classification: Amarillo\n",
            "\n",
            "Breakdown:\n",
            "  WMA: 1/2\n",
            "  Base: 1/2\n",
            "  RS: 2/2\n",
            "  Resistance: 1/2\n",
            "  Volume: 0/2\n"
          ]
        },
        {
          "output_type": "stream",
          "name": "stderr",
          "text": [
            "\n"
          ]
        }
      ]
    },
    {
      "cell_type": "code",
      "source": [],
      "metadata": {
        "id": "GggikOMdl-Or"
      },
      "execution_count": null,
      "outputs": []
    }
  ]
}